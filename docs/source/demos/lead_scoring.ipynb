{
 "cells": [
  {
   "cell_type": "markdown",
   "metadata": {},
   "source": [
    "# Building a Lead Scoring Model with EvalML\n",
    "\n",
    "In this demo, we will build an optimized lead scoring model using EvalML. To optimize the pipeline, we will set up an objective function to maximize the revenue generated with true positives while taking into account the cost of false positives. At the end of this demo, we also show you how introducing the right objective during the training is over 6x better than using a generic machine learning metric like AUC."
   ]
  },
  {
   "cell_type": "code",
   "execution_count": 1,
   "metadata": {},
   "outputs": [],
   "source": [
    "import evalml\n",
    "from evalml import AutoMLSearch\n",
    "from evalml.objectives import LeadScoring"
   ]
  },
  {
   "cell_type": "markdown",
   "metadata": {},
   "source": [
    "## Configure LeadScoring \n",
    "\n",
    "To optimize the pipelines toward the specific business needs of this model, you can set your own assumptions for how much value is gained through true positives and the cost associated with false positives. These parameters are\n",
    "\n",
    "* `true_positive` - dollar amount to be gained with a successful lead\n",
    "* `false_positive` - dollar amount to be lost with an unsuccessful lead\n",
    "\n",
    "Using these parameters, EvalML builds a pileline that will maximize the amount of revenue per lead generated."
   ]
  },
  {
   "cell_type": "code",
   "execution_count": 2,
   "metadata": {},
   "outputs": [
    {
     "name": "stdout",
     "output_type": "stream",
     "text": [
      "CPU times: user 5 \u00b5s, sys: 0 ns, total: 5 \u00b5s\n",
      "Wall time: 7.87 \u00b5s\n"
     ]
    }
   ],
   "source": [
    "%%time\n",
    "lead_scoring_objective = LeadScoring(\n",
    "    true_positives=1000,\n",
    "    false_positives=-10\n",
    ")"
   ]
  },
  {
   "cell_type": "markdown",
   "metadata": {},
   "source": [
    "## Dataset\n",
    "\n",
    "We will be utilizing a dataset detailing a customer's job, country, state, zip, online action, the dollar amount of that action and whether they were a successful lead."
   ]
  },
  {
   "cell_type": "code",
   "execution_count": 3,
   "metadata": {},
   "outputs": [
    {
     "data": {
      "text/html": [
       "<div>\n",
       "<style scoped>\n",
       "    .dataframe tbody tr th:only-of-type {\n",
       "        vertical-align: middle;\n",
       "    }\n",
       "\n",
       "    .dataframe tbody tr th {\n",
       "        vertical-align: top;\n",
       "    }\n",
       "\n",
       "    .dataframe thead th {\n",
       "        text-align: right;\n",
       "    }\n",
       "</style>\n",
       "<table border=\"1\" class=\"dataframe\">\n",
       "  <thead>\n",
       "    <tr style=\"text-align: right;\">\n",
       "      <th></th>\n",
       "      <th>job</th>\n",
       "      <th>state</th>\n",
       "      <th>zip</th>\n",
       "      <th>action</th>\n",
       "      <th>amount</th>\n",
       "    </tr>\n",
       "  </thead>\n",
       "  <tbody>\n",
       "    <tr>\n",
       "      <th>0</th>\n",
       "      <td>Engineer, mining</td>\n",
       "      <td>NY</td>\n",
       "      <td>60091.0</td>\n",
       "      <td>page_view</td>\n",
       "      <td>NaN</td>\n",
       "    </tr>\n",
       "    <tr>\n",
       "      <th>1</th>\n",
       "      <td>Psychologist, forensic</td>\n",
       "      <td>CA</td>\n",
       "      <td>NaN</td>\n",
       "      <td>purchase</td>\n",
       "      <td>135.23</td>\n",
       "    </tr>\n",
       "    <tr>\n",
       "      <th>2</th>\n",
       "      <td>Psychologist, forensic</td>\n",
       "      <td>CA</td>\n",
       "      <td>NaN</td>\n",
       "      <td>page_view</td>\n",
       "      <td>NaN</td>\n",
       "    </tr>\n",
       "    <tr>\n",
       "      <th>3</th>\n",
       "      <td>Air cabin crew</td>\n",
       "      <td>NaN</td>\n",
       "      <td>60091.0</td>\n",
       "      <td>download</td>\n",
       "      <td>NaN</td>\n",
       "    </tr>\n",
       "    <tr>\n",
       "      <th>4</th>\n",
       "      <td>Air cabin crew</td>\n",
       "      <td>NaN</td>\n",
       "      <td>60091.0</td>\n",
       "      <td>page_view</td>\n",
       "      <td>NaN</td>\n",
       "    </tr>\n",
       "  </tbody>\n",
       "</table>\n",
       "</div>"
      ],
      "text/plain": [
       "                      job state      zip     action  amount\n",
       "0        Engineer, mining    NY  60091.0  page_view     NaN\n",
       "1  Psychologist, forensic    CA      NaN   purchase  135.23\n",
       "2  Psychologist, forensic    CA      NaN  page_view     NaN\n",
       "3          Air cabin crew   NaN  60091.0   download     NaN\n",
       "4          Air cabin crew   NaN  60091.0  page_view     NaN"
      ]
     },
     "metadata": {},
     "output_type": "display_data"
    },
    {
     "name": "stdout",
     "output_type": "stream",
     "text": [
      "CPU times: user 88.8 ms, sys: 10.8 ms, total: 99.7 ms\n",
      "Wall time: 512 ms\n"
     ]
    }
   ],
   "source": [
    "%%time\n",
    "from urllib.request import urlopen\n",
    "import pandas as pd\n",
    "import woodwork as ww\n",
    "customers_data = urlopen('https://featurelabs-static.s3.amazonaws.com/lead_scoring_ml_apps/customers.csv')\n",
    "interactions_data = urlopen('https://featurelabs-static.s3.amazonaws.com/lead_scoring_ml_apps/interactions.csv')\n",
    "leads_data = urlopen('https://featurelabs-static.s3.amazonaws.com/lead_scoring_ml_apps/previous_leads.csv')\n",
    "customers = pd.read_csv(customers_data)\n",
    "interactions = pd.read_csv(interactions_data)\n",
    "leads = pd.read_csv(leads_data)\n",
    "\n",
    "X = customers.merge(interactions, on='customer_id').merge(leads, on='customer_id')\n",
    "y = X['label']\n",
    "X = X.drop(['customer_id', 'date_registered', 'birthday','phone', 'email',\n",
    "            'owner', 'company', 'id', 'time_x',\n",
    "            'session', 'referrer', 'time_y', 'label', 'country'], axis=1)\n",
    "display(X.head())"
   ]
  },
  {
   "cell_type": "markdown",
   "metadata": {},
   "source": [
    "We will convert our data into Woodwork data structures. Doing so enables us to have more control over the types passed to and inferred by AutoML."
   ]
  },
  {
   "cell_type": "code",
   "execution_count": 4,
   "metadata": {},
   "outputs": [
    {
     "name": "stdout",
     "output_type": "stream",
     "text": [
      "CPU times: user 17 ms, sys: 1.44 ms, total: 18.5 ms\n",
      "Wall time: 17.3 ms\n"
     ]
    },
    {
     "data": {
      "text/html": [
       "<div>\n",
       "<style scoped>\n",
       "    .dataframe tbody tr th:only-of-type {\n",
       "        vertical-align: middle;\n",
       "    }\n",
       "\n",
       "    .dataframe tbody tr th {\n",
       "        vertical-align: top;\n",
       "    }\n",
       "\n",
       "    .dataframe thead th {\n",
       "        text-align: right;\n",
       "    }\n",
       "</style>\n",
       "<table border=\"1\" class=\"dataframe\">\n",
       "  <thead>\n",
       "    <tr style=\"text-align: right;\">\n",
       "      <th></th>\n",
       "      <th>Physical Type</th>\n",
       "      <th>Logical Type</th>\n",
       "      <th>Semantic Tag(s)</th>\n",
       "    </tr>\n",
       "    <tr>\n",
       "      <th>Data Column</th>\n",
       "      <th></th>\n",
       "      <th></th>\n",
       "      <th></th>\n",
       "    </tr>\n",
       "  </thead>\n",
       "  <tbody>\n",
       "    <tr>\n",
       "      <th>job</th>\n",
       "      <td>category</td>\n",
       "      <td>Categorical</td>\n",
       "      <td>['category']</td>\n",
       "    </tr>\n",
       "    <tr>\n",
       "      <th>state</th>\n",
       "      <td>category</td>\n",
       "      <td>Categorical</td>\n",
       "      <td>['category']</td>\n",
       "    </tr>\n",
       "    <tr>\n",
       "      <th>zip</th>\n",
       "      <td>float64</td>\n",
       "      <td>Double</td>\n",
       "      <td>['numeric']</td>\n",
       "    </tr>\n",
       "    <tr>\n",
       "      <th>action</th>\n",
       "      <td>category</td>\n",
       "      <td>Categorical</td>\n",
       "      <td>['category']</td>\n",
       "    </tr>\n",
       "    <tr>\n",
       "      <th>amount</th>\n",
       "      <td>float64</td>\n",
       "      <td>Double</td>\n",
       "      <td>['numeric']</td>\n",
       "    </tr>\n",
       "  </tbody>\n",
       "</table>\n",
       "</div>"
      ],
      "text/plain": [
       "            Physical Type Logical Type Semantic Tag(s)\n",
       "Data Column                                           \n",
       "job              category  Categorical    ['category']\n",
       "state            category  Categorical    ['category']\n",
       "zip               float64       Double     ['numeric']\n",
       "action           category  Categorical    ['category']\n",
       "amount            float64       Double     ['numeric']"
      ]
     },
     "execution_count": 4,
     "metadata": {},
     "output_type": "execute_result"
    }
   ],
   "source": [
    "%%time\n",
    "X = ww.DataTable(X, semantic_tags={'job': 'category'}, logical_types={'job': 'Categorical'})\n",
    "y = ww.DataColumn(y)\n",
    "X.types"
   ]
  },
  {
   "cell_type": "markdown",
   "metadata": {},
   "source": [
    "## Search for the best pipeline"
   ]
  },
  {
   "cell_type": "markdown",
   "metadata": {},
   "source": [
    "In order to validate the results of the pipeline creation and optimization process, we will save some of our data as a holdout set."
   ]
  },
  {
   "cell_type": "markdown",
   "metadata": {},
   "source": [
    "EvalML natively supports one-hot encoding and imputation so the above `NaN` and categorical values will be taken care of."
   ]
  },
  {
   "cell_type": "code",
   "execution_count": 5,
   "metadata": {},
   "outputs": [
    {
     "name": "stdout",
     "output_type": "stream",
     "text": [
      "            Physical Type Logical Type Semantic Tag(s)\n",
      "Data Column                                           \n",
      "job              category  Categorical    ['category']\n",
      "state            category  Categorical    ['category']\n",
      "zip               float64       Double     ['numeric']\n",
      "action           category  Categorical    ['category']\n",
      "amount            float64       Double     ['numeric']\n",
      "CPU times: user 10.6 ms, sys: 1.43 ms, total: 12 ms\n",
      "Wall time: 10.9 ms\n"
     ]
    }
   ],
   "source": [
    "%%time\n",
    "X_train, X_holdout, y_train, y_holdout = evalml.preprocessing.split_data(X, y, problem_type='binary', test_size=0.2, random_state=0)\n",
    "\n",
    "print(X.types)"
   ]
  },
  {
   "cell_type": "markdown",
   "metadata": {},
   "source": [
    "Because the lead scoring labels are binary, we will use `AutoMLSearch(X_train=X_train, y_train=y_train, problem_type='binary')`. When we call `.search()`, the search for the best pipeline will begin. "
   ]
  },
  {
   "cell_type": "code",
   "execution_count": 6,
   "metadata": {},
   "outputs": [
    {
     "name": "stdout",
     "output_type": "stream",
     "text": [
      "The following labels fall below 10% of the target: [True]\n",
      "Generating pipelines to search over...\n",
      "*****************************\n",
      "* Beginning pipeline search *\n",
      "*****************************\n",
      "\n",
      "Optimizing for Lead Scoring. \n",
      "Greater score is better.\n",
      "\n",
      "Searching up to 1 batches for a total of 9 pipelines. \n",
      "Allowed model families: lightgbm, catboost, extra_trees, xgboost, decision_tree, random_forest, linear_model\n",
      "\n"
     ]
    },
    {
     "data": {
      "application/vnd.jupyter.widget-view+json": {
       "model_id": "becefa8645d145b8b605868498aa30d8",
       "version_major": 2,
       "version_minor": 0
      },
      "text/plain": [
       "FigureWidget({\n",
       "    'data': [{'mode': 'lines+markers',\n",
       "              'name': 'Best Score',\n",
       "              'type'\u2026"
      ]
     },
     "metadata": {},
     "output_type": "display_data"
    },
    {
     "name": "stdout",
     "output_type": "stream",
     "text": [
      "Batch 1: (1/9) Mode Baseline Binary Classification P... Elapsed:00:00\n",
      "\tStarting cross validation\n",
      "\tFinished cross validation - mean Lead Scoring: 0.000\n",
      "Batch 1: (2/9) Logistic Regression Classifier w/ Imp... Elapsed:00:01\n",
      "\tStarting cross validation\n",
      "\tFinished cross validation - mean Lead Scoring: 13.784\n",
      "High coefficient of variation (cv >= 0.2) within cross validation scores. Logistic Regression Classifier w/ Imputer + One Hot Encoder + Standard Scaler may not perform as estimated on unseen data.\n",
      "Batch 1: (3/9) Random Forest Classifier w/ Imputer +... Elapsed:00:03\n",
      "\tStarting cross validation\n",
      "\tFinished cross validation - mean Lead Scoring: 12.062\n",
      "High coefficient of variation (cv >= 0.2) within cross validation scores. Random Forest Classifier w/ Imputer + One Hot Encoder may not perform as estimated on unseen data.\n",
      "Batch 1: (4/9) XGBoost Classifier w/ Imputer + One H... Elapsed:00:05\n",
      "\tStarting cross validation\n",
      "\tFinished cross validation - mean Lead Scoring: 13.173\n",
      "Batch 1: (5/9) CatBoost Classifier w/ Imputer           Elapsed:00:07\n",
      "\tStarting cross validation\n",
      "\tFinished cross validation - mean Lead Scoring: 12.640\n",
      "High coefficient of variation (cv >= 0.2) within cross validation scores. CatBoost Classifier w/ Imputer may not perform as estimated on unseen data.\n",
      "Batch 1: (6/9) Elastic Net Classifier w/ Imputer + O... Elapsed:00:08\n",
      "\tStarting cross validation\n",
      "\tFinished cross validation - mean Lead Scoring: 15.997\n",
      "Batch 1: (7/9) Extra Trees Classifier w/ Imputer + O... Elapsed:00:09\n",
      "\tStarting cross validation\n",
      "\tFinished cross validation - mean Lead Scoring: 13.028\n",
      "Batch 1: (8/9) LightGBM Classifier w/ Imputer + One ... Elapsed:00:11\n",
      "\tStarting cross validation\n",
      "\tFinished cross validation - mean Lead Scoring: 14.635\n",
      "Batch 1: (9/9) Decision Tree Classifier w/ Imputer +... Elapsed:00:13\n",
      "\tStarting cross validation\n",
      "\tFinished cross validation - mean Lead Scoring: 11.531\n",
      "\n",
      "Search finished after 00:14            \n",
      "Best pipeline: Elastic Net Classifier w/ Imputer + One Hot Encoder + Standard Scaler\n",
      "Best pipeline Lead Scoring: 15.997325\n",
      "CPU times: user 1min 13s, sys: 5.52 s, total: 1min 19s\n",
      "Wall time: 15.5 s\n"
     ]
    }
   ],
   "source": [
    "%%time\n",
    "automl = AutoMLSearch(X_train=X_train, y_train=y_train,\n",
    "                      problem_type='binary',\n",
    "                      objective=lead_scoring_objective,\n",
    "                      additional_objectives=['auc'],\n",
    "                      max_batches=1,\n",
    "                      optimize_thresholds=True)\n",
    "\n",
    "automl.search()"
   ]
  },
  {
   "cell_type": "markdown",
   "metadata": {},
   "source": [
    "### View rankings and select pipeline\n",
    "\n",
    "Once the fitting process is done, we can see all of the pipelines that were searched, ranked by their score on the lead scoring objective we defined."
   ]
  },
  {
   "cell_type": "code",
   "execution_count": 7,
   "metadata": {},
   "outputs": [
    {
     "name": "stdout",
     "output_type": "stream",
     "text": [
      "CPU times: user 4.1 ms, sys: 316 \u00b5s, total: 4.41 ms\n",
      "Wall time: 4.18 ms\n"
     ]
    },
    {
     "data": {
      "text/html": [
       "<div>\n",
       "<style scoped>\n",
       "    .dataframe tbody tr th:only-of-type {\n",
       "        vertical-align: middle;\n",
       "    }\n",
       "\n",
       "    .dataframe tbody tr th {\n",
       "        vertical-align: top;\n",
       "    }\n",
       "\n",
       "    .dataframe thead th {\n",
       "        text-align: right;\n",
       "    }\n",
       "</style>\n",
       "<table border=\"1\" class=\"dataframe\">\n",
       "  <thead>\n",
       "    <tr style=\"text-align: right;\">\n",
       "      <th></th>\n",
       "      <th>id</th>\n",
       "      <th>pipeline_name</th>\n",
       "      <th>score</th>\n",
       "      <th>validation_score</th>\n",
       "      <th>percent_better_than_baseline</th>\n",
       "      <th>high_variance_cv</th>\n",
       "      <th>parameters</th>\n",
       "    </tr>\n",
       "  </thead>\n",
       "  <tbody>\n",
       "    <tr>\n",
       "      <th>0</th>\n",
       "      <td>5</td>\n",
       "      <td>Elastic Net Classifier w/ Imputer + One Hot En...</td>\n",
       "      <td>15.997325</td>\n",
       "      <td>12.374194</td>\n",
       "      <td>NaN</td>\n",
       "      <td>False</td>\n",
       "      <td>{'Imputer': {'categorical_impute_strategy': 'm...</td>\n",
       "    </tr>\n",
       "    <tr>\n",
       "      <th>1</th>\n",
       "      <td>7</td>\n",
       "      <td>LightGBM Classifier w/ Imputer + One Hot Encoder</td>\n",
       "      <td>14.635258</td>\n",
       "      <td>12.419355</td>\n",
       "      <td>NaN</td>\n",
       "      <td>False</td>\n",
       "      <td>{'Imputer': {'categorical_impute_strategy': 'm...</td>\n",
       "    </tr>\n",
       "    <tr>\n",
       "      <th>2</th>\n",
       "      <td>1</td>\n",
       "      <td>Logistic Regression Classifier w/ Imputer + On...</td>\n",
       "      <td>13.784020</td>\n",
       "      <td>9.980645</td>\n",
       "      <td>NaN</td>\n",
       "      <td>True</td>\n",
       "      <td>{'Imputer': {'categorical_impute_strategy': 'm...</td>\n",
       "    </tr>\n",
       "    <tr>\n",
       "      <th>3</th>\n",
       "      <td>3</td>\n",
       "      <td>XGBoost Classifier w/ Imputer + One Hot Encoder</td>\n",
       "      <td>13.172704</td>\n",
       "      <td>11.316129</td>\n",
       "      <td>NaN</td>\n",
       "      <td>False</td>\n",
       "      <td>{'Imputer': {'categorical_impute_strategy': 'm...</td>\n",
       "    </tr>\n",
       "    <tr>\n",
       "      <th>4</th>\n",
       "      <td>6</td>\n",
       "      <td>Extra Trees Classifier w/ Imputer + One Hot En...</td>\n",
       "      <td>13.028294</td>\n",
       "      <td>12.496774</td>\n",
       "      <td>NaN</td>\n",
       "      <td>False</td>\n",
       "      <td>{'Imputer': {'categorical_impute_strategy': 'm...</td>\n",
       "    </tr>\n",
       "    <tr>\n",
       "      <th>5</th>\n",
       "      <td>4</td>\n",
       "      <td>CatBoost Classifier w/ Imputer</td>\n",
       "      <td>12.640320</td>\n",
       "      <td>12.374194</td>\n",
       "      <td>NaN</td>\n",
       "      <td>True</td>\n",
       "      <td>{'Imputer': {'categorical_impute_strategy': 'm...</td>\n",
       "    </tr>\n",
       "    <tr>\n",
       "      <th>6</th>\n",
       "      <td>2</td>\n",
       "      <td>Random Forest Classifier w/ Imputer + One Hot ...</td>\n",
       "      <td>12.062318</td>\n",
       "      <td>11.212903</td>\n",
       "      <td>NaN</td>\n",
       "      <td>True</td>\n",
       "      <td>{'Imputer': {'categorical_impute_strategy': 'm...</td>\n",
       "    </tr>\n",
       "    <tr>\n",
       "      <th>7</th>\n",
       "      <td>8</td>\n",
       "      <td>Decision Tree Classifier w/ Imputer + One Hot ...</td>\n",
       "      <td>11.531380</td>\n",
       "      <td>10.161290</td>\n",
       "      <td>NaN</td>\n",
       "      <td>False</td>\n",
       "      <td>{'Imputer': {'categorical_impute_strategy': 'm...</td>\n",
       "    </tr>\n",
       "    <tr>\n",
       "      <th>8</th>\n",
       "      <td>0</td>\n",
       "      <td>Mode Baseline Binary Classification Pipeline</td>\n",
       "      <td>0.000000</td>\n",
       "      <td>0.000000</td>\n",
       "      <td>NaN</td>\n",
       "      <td>False</td>\n",
       "      <td>{'Baseline Classifier': {'strategy': 'mode'}}</td>\n",
       "    </tr>\n",
       "  </tbody>\n",
       "</table>\n",
       "</div>"
      ],
      "text/plain": [
       "   id                                      pipeline_name      score  \\\n",
       "0   5  Elastic Net Classifier w/ Imputer + One Hot En...  15.997325   \n",
       "1   7   LightGBM Classifier w/ Imputer + One Hot Encoder  14.635258   \n",
       "2   1  Logistic Regression Classifier w/ Imputer + On...  13.784020   \n",
       "3   3    XGBoost Classifier w/ Imputer + One Hot Encoder  13.172704   \n",
       "4   6  Extra Trees Classifier w/ Imputer + One Hot En...  13.028294   \n",
       "5   4                     CatBoost Classifier w/ Imputer  12.640320   \n",
       "6   2  Random Forest Classifier w/ Imputer + One Hot ...  12.062318   \n",
       "7   8  Decision Tree Classifier w/ Imputer + One Hot ...  11.531380   \n",
       "8   0       Mode Baseline Binary Classification Pipeline   0.000000   \n",
       "\n",
       "   validation_score  percent_better_than_baseline  high_variance_cv  \\\n",
       "0         12.374194                           NaN             False   \n",
       "1         12.419355                           NaN             False   \n",
       "2          9.980645                           NaN              True   \n",
       "3         11.316129                           NaN             False   \n",
       "4         12.496774                           NaN             False   \n",
       "5         12.374194                           NaN              True   \n",
       "6         11.212903                           NaN              True   \n",
       "7         10.161290                           NaN             False   \n",
       "8          0.000000                           NaN             False   \n",
       "\n",
       "                                          parameters  \n",
       "0  {'Imputer': {'categorical_impute_strategy': 'm...  \n",
       "1  {'Imputer': {'categorical_impute_strategy': 'm...  \n",
       "2  {'Imputer': {'categorical_impute_strategy': 'm...  \n",
       "3  {'Imputer': {'categorical_impute_strategy': 'm...  \n",
       "4  {'Imputer': {'categorical_impute_strategy': 'm...  \n",
       "5  {'Imputer': {'categorical_impute_strategy': 'm...  \n",
       "6  {'Imputer': {'categorical_impute_strategy': 'm...  \n",
       "7  {'Imputer': {'categorical_impute_strategy': 'm...  \n",
       "8      {'Baseline Classifier': {'strategy': 'mode'}}  "
      ]
     },
     "execution_count": 7,
     "metadata": {},
     "output_type": "execute_result"
    }
   ],
   "source": [
    "%%time\n",
    "automl.rankings"
   ]
  },
  {
   "cell_type": "markdown",
   "metadata": {},
   "source": [
    "To select the best pipeline we can call `automl.best_pipeline`."
   ]
  },
  {
   "cell_type": "code",
   "execution_count": 8,
   "metadata": {},
   "outputs": [
    {
     "name": "stdout",
     "output_type": "stream",
     "text": [
      "CPU times: user 4 \u00b5s, sys: 1 \u00b5s, total: 5 \u00b5s\n",
      "Wall time: 6.91 \u00b5s\n"
     ]
    }
   ],
   "source": [
    "%%time\n",
    "best_pipeline = automl.best_pipeline"
   ]
  },
  {
   "cell_type": "markdown",
   "metadata": {},
   "source": [
    "### Describe pipeline\n",
    "\n",
    "You can get more details about any pipeline, including how it performed on other objective functions by calling `.describe_pipeline()` and specifying the `id` of the pipeline."
   ]
  },
  {
   "cell_type": "code",
   "execution_count": 9,
   "metadata": {},
   "outputs": [
    {
     "name": "stdout",
     "output_type": "stream",
     "text": [
      "*************************************************************************\n",
      "* Elastic Net Classifier w/ Imputer + One Hot Encoder + Standard Scaler *\n",
      "*************************************************************************\n",
      "\n",
      "Problem Type: binary\n",
      "Model Family: Linear\n",
      "\n",
      "Pipeline Steps\n",
      "==============\n",
      "1. Imputer\n",
      "\t * categorical_impute_strategy : most_frequent\n",
      "\t * numeric_impute_strategy : mean\n",
      "\t * categorical_fill_value : None\n",
      "\t * numeric_fill_value : None\n",
      "2. One Hot Encoder\n",
      "\t * top_n : 10\n",
      "\t * features_to_encode : None\n",
      "\t * categories : None\n",
      "\t * drop : None\n",
      "\t * handle_unknown : ignore\n",
      "\t * handle_missing : error\n",
      "3. Standard Scaler\n",
      "4. Elastic Net Classifier\n",
      "\t * alpha : 0.5\n",
      "\t * l1_ratio : 0.5\n",
      "\t * n_jobs : -1\n",
      "\t * max_iter : 1000\n",
      "\t * penalty : elasticnet\n",
      "\t * loss : log\n",
      "\n",
      "Training\n",
      "========\n",
      "Training for binary problems.\n",
      "Objective to optimize binary classification pipeline thresholds for: <evalml.objectives.lead_scoring.LeadScoring object at 0x1055c6e20>\n",
      "Total training time (including CV): 1.2 seconds\n",
      "\n",
      "Cross Validation\n",
      "----------------\n",
      "             Lead Scoring   AUC # Training # Validation\n",
      "0                  12.374 0.500   2479.000     1550.000\n",
      "1                  18.058 0.500   2479.000     1550.000\n",
      "2                  17.560 0.500   2480.000     1549.000\n",
      "mean               15.997 0.500          -            -\n",
      "std                 3.148 0.000          -            -\n",
      "coef of var         0.197 0.000          -            -\n",
      "CPU times: user 35.4 ms, sys: 8.75 ms, total: 44.1 ms\n",
      "Wall time: 40.2 ms\n"
     ]
    }
   ],
   "source": [
    "%%time\n",
    "automl.describe_pipeline(automl.rankings.iloc[0][\"id\"])"
   ]
  },
  {
   "cell_type": "markdown",
   "metadata": {},
   "source": [
    "## Evaluate on hold out\n",
    "\n",
    "Finally, since the best pipeline was trained on all of the training data, we evaluate it on the holdout dataset."
   ]
  },
  {
   "cell_type": "code",
   "execution_count": 10,
   "metadata": {},
   "outputs": [
    {
     "name": "stdout",
     "output_type": "stream",
     "text": [
      "CPU times: user 398 ms, sys: 148 ms, total: 546 ms\n",
      "Wall time: 117 ms\n"
     ]
    },
    {
     "data": {
      "text/plain": [
       "OrderedDict([('AUC', 0.5), ('Lead Scoring', 15.382631126397248)])"
      ]
     },
     "execution_count": 10,
     "metadata": {},
     "output_type": "execute_result"
    }
   ],
   "source": [
    "%%time\n",
    "best_pipeline.score(X_holdout, y_holdout, objectives=[\"auc\", lead_scoring_objective])"
   ]
  },
  {
   "cell_type": "markdown",
   "metadata": {},
   "source": [
    "## Why optimize for a problem-specific objective?\n",
    "\n",
    "To demonstrate the importance of optimizing for the right objective, let's search for another pipeline using AUC, a common machine learning metric. After that, we will score the holdout data using the lead scoring objective to see how the best pipelines compare."
   ]
  },
  {
   "cell_type": "code",
   "execution_count": 11,
   "metadata": {},
   "outputs": [
    {
     "name": "stdout",
     "output_type": "stream",
     "text": [
      "The following labels fall below 10% of the target: [True]\n",
      "Generating pipelines to search over...\n",
      "*****************************\n",
      "* Beginning pipeline search *\n",
      "*****************************\n",
      "\n",
      "Optimizing for AUC. \n",
      "Greater score is better.\n",
      "\n",
      "Searching up to 1 batches for a total of 9 pipelines. \n",
      "Allowed model families: lightgbm, catboost, extra_trees, xgboost, decision_tree, random_forest, linear_model\n",
      "\n"
     ]
    },
    {
     "data": {
      "application/vnd.jupyter.widget-view+json": {
       "model_id": "e4815e75c59c4234b986ce5fa7dab5a4",
       "version_major": 2,
       "version_minor": 0
      },
      "text/plain": [
       "FigureWidget({\n",
       "    'data': [{'mode': 'lines+markers',\n",
       "              'name': 'Best Score',\n",
       "              'type'\u2026"
      ]
     },
     "metadata": {},
     "output_type": "display_data"
    },
    {
     "name": "stdout",
     "output_type": "stream",
     "text": [
      "Batch 1: (1/9) Mode Baseline Binary Classification P... Elapsed:00:00\n",
      "\tStarting cross validation\n",
      "\tFinished cross validation - mean AUC: 0.500\n",
      "Batch 1: (2/9) Logistic Regression Classifier w/ Imp... Elapsed:00:00\n",
      "\tStarting cross validation\n",
      "\tFinished cross validation - mean AUC: 0.695\n",
      "Batch 1: (3/9) Random Forest Classifier w/ Imputer +... Elapsed:00:01\n",
      "\tStarting cross validation\n",
      "\tFinished cross validation - mean AUC: 0.702\n",
      "Batch 1: (4/9) XGBoost Classifier w/ Imputer + One H... Elapsed:00:02\n",
      "\tStarting cross validation\n",
      "\tFinished cross validation - mean AUC: 0.709\n",
      "Batch 1: (5/9) CatBoost Classifier w/ Imputer           Elapsed:00:02\n",
      "\tStarting cross validation\n",
      "\tFinished cross validation - mean AUC: 0.557\n",
      "Batch 1: (6/9) Elastic Net Classifier w/ Imputer + O... Elapsed:00:03\n",
      "\tStarting cross validation\n",
      "\tFinished cross validation - mean AUC: 0.500\n",
      "Batch 1: (7/9) Extra Trees Classifier w/ Imputer + O... Elapsed:00:03\n",
      "\tStarting cross validation\n",
      "\tFinished cross validation - mean AUC: 0.722\n",
      "Batch 1: (8/9) LightGBM Classifier w/ Imputer + One ... Elapsed:00:04\n",
      "\tStarting cross validation\n",
      "\tFinished cross validation - mean AUC: 0.678\n",
      "Batch 1: (9/9) Decision Tree Classifier w/ Imputer +... Elapsed:00:05\n",
      "\tStarting cross validation\n",
      "\tFinished cross validation - mean AUC: 0.587\n",
      "\n",
      "Search finished after 00:05            \n",
      "Best pipeline: Extra Trees Classifier w/ Imputer + One Hot Encoder\n",
      "Best pipeline AUC: 0.722008\n",
      "CPU times: user 34.1 s, sys: 2.65 s, total: 36.8 s\n",
      "Wall time: 6.15 s\n"
     ]
    }
   ],
   "source": [
    "%%time\n",
    "automl_auc = evalml.AutoMLSearch(X_train=X_train, y_train=y_train,\n",
    "                                 problem_type='binary',\n",
    "                                 objective='auc',\n",
    "                                 additional_objectives=[],\n",
    "                                 max_batches=1,\n",
    "                                 optimize_thresholds=True)\n",
    "\n",
    "automl_auc.search()"
   ]
  },
  {
   "cell_type": "code",
   "execution_count": 12,
   "metadata": {},
   "outputs": [
    {
     "name": "stdout",
     "output_type": "stream",
     "text": [
      "CPU times: user 3.99 ms, sys: 277 \u00b5s, total: 4.26 ms\n",
      "Wall time: 4.15 ms\n"
     ]
    },
    {
     "data": {
      "text/html": [
       "<div>\n",
       "<style scoped>\n",
       "    .dataframe tbody tr th:only-of-type {\n",
       "        vertical-align: middle;\n",
       "    }\n",
       "\n",
       "    .dataframe tbody tr th {\n",
       "        vertical-align: top;\n",
       "    }\n",
       "\n",
       "    .dataframe thead th {\n",
       "        text-align: right;\n",
       "    }\n",
       "</style>\n",
       "<table border=\"1\" class=\"dataframe\">\n",
       "  <thead>\n",
       "    <tr style=\"text-align: right;\">\n",
       "      <th></th>\n",
       "      <th>id</th>\n",
       "      <th>pipeline_name</th>\n",
       "      <th>score</th>\n",
       "      <th>validation_score</th>\n",
       "      <th>percent_better_than_baseline</th>\n",
       "      <th>high_variance_cv</th>\n",
       "      <th>parameters</th>\n",
       "    </tr>\n",
       "  </thead>\n",
       "  <tbody>\n",
       "    <tr>\n",
       "      <th>0</th>\n",
       "      <td>6</td>\n",
       "      <td>Extra Trees Classifier w/ Imputer + One Hot En...</td>\n",
       "      <td>0.722008</td>\n",
       "      <td>0.718159</td>\n",
       "      <td>44.401691</td>\n",
       "      <td>False</td>\n",
       "      <td>{'Imputer': {'categorical_impute_strategy': 'm...</td>\n",
       "    </tr>\n",
       "    <tr>\n",
       "      <th>1</th>\n",
       "      <td>3</td>\n",
       "      <td>XGBoost Classifier w/ Imputer + One Hot Encoder</td>\n",
       "      <td>0.708940</td>\n",
       "      <td>0.696173</td>\n",
       "      <td>41.788046</td>\n",
       "      <td>False</td>\n",
       "      <td>{'Imputer': {'categorical_impute_strategy': 'm...</td>\n",
       "    </tr>\n",
       "    <tr>\n",
       "      <th>2</th>\n",
       "      <td>2</td>\n",
       "      <td>Random Forest Classifier w/ Imputer + One Hot ...</td>\n",
       "      <td>0.701576</td>\n",
       "      <td>0.699430</td>\n",
       "      <td>40.315221</td>\n",
       "      <td>False</td>\n",
       "      <td>{'Imputer': {'categorical_impute_strategy': 'm...</td>\n",
       "    </tr>\n",
       "    <tr>\n",
       "      <th>3</th>\n",
       "      <td>1</td>\n",
       "      <td>Logistic Regression Classifier w/ Imputer + On...</td>\n",
       "      <td>0.694583</td>\n",
       "      <td>0.685778</td>\n",
       "      <td>38.916659</td>\n",
       "      <td>False</td>\n",
       "      <td>{'Imputer': {'categorical_impute_strategy': 'm...</td>\n",
       "    </tr>\n",
       "    <tr>\n",
       "      <th>4</th>\n",
       "      <td>7</td>\n",
       "      <td>LightGBM Classifier w/ Imputer + One Hot Encoder</td>\n",
       "      <td>0.678321</td>\n",
       "      <td>0.668776</td>\n",
       "      <td>35.664140</td>\n",
       "      <td>False</td>\n",
       "      <td>{'Imputer': {'categorical_impute_strategy': 'm...</td>\n",
       "    </tr>\n",
       "    <tr>\n",
       "      <th>5</th>\n",
       "      <td>8</td>\n",
       "      <td>Decision Tree Classifier w/ Imputer + One Hot ...</td>\n",
       "      <td>0.586996</td>\n",
       "      <td>0.560719</td>\n",
       "      <td>17.399261</td>\n",
       "      <td>False</td>\n",
       "      <td>{'Imputer': {'categorical_impute_strategy': 'm...</td>\n",
       "    </tr>\n",
       "    <tr>\n",
       "      <th>6</th>\n",
       "      <td>4</td>\n",
       "      <td>CatBoost Classifier w/ Imputer</td>\n",
       "      <td>0.556956</td>\n",
       "      <td>0.581441</td>\n",
       "      <td>11.391175</td>\n",
       "      <td>False</td>\n",
       "      <td>{'Imputer': {'categorical_impute_strategy': 'm...</td>\n",
       "    </tr>\n",
       "    <tr>\n",
       "      <th>7</th>\n",
       "      <td>0</td>\n",
       "      <td>Mode Baseline Binary Classification Pipeline</td>\n",
       "      <td>0.500000</td>\n",
       "      <td>0.500000</td>\n",
       "      <td>0.000000</td>\n",
       "      <td>False</td>\n",
       "      <td>{'Baseline Classifier': {'strategy': 'mode'}}</td>\n",
       "    </tr>\n",
       "    <tr>\n",
       "      <th>8</th>\n",
       "      <td>5</td>\n",
       "      <td>Elastic Net Classifier w/ Imputer + One Hot En...</td>\n",
       "      <td>0.500000</td>\n",
       "      <td>0.500000</td>\n",
       "      <td>0.000000</td>\n",
       "      <td>False</td>\n",
       "      <td>{'Imputer': {'categorical_impute_strategy': 'm...</td>\n",
       "    </tr>\n",
       "  </tbody>\n",
       "</table>\n",
       "</div>"
      ],
      "text/plain": [
       "   id                                      pipeline_name     score  \\\n",
       "0   6  Extra Trees Classifier w/ Imputer + One Hot En...  0.722008   \n",
       "1   3    XGBoost Classifier w/ Imputer + One Hot Encoder  0.708940   \n",
       "2   2  Random Forest Classifier w/ Imputer + One Hot ...  0.701576   \n",
       "3   1  Logistic Regression Classifier w/ Imputer + On...  0.694583   \n",
       "4   7   LightGBM Classifier w/ Imputer + One Hot Encoder  0.678321   \n",
       "5   8  Decision Tree Classifier w/ Imputer + One Hot ...  0.586996   \n",
       "6   4                     CatBoost Classifier w/ Imputer  0.556956   \n",
       "7   0       Mode Baseline Binary Classification Pipeline  0.500000   \n",
       "8   5  Elastic Net Classifier w/ Imputer + One Hot En...  0.500000   \n",
       "\n",
       "   validation_score  percent_better_than_baseline  high_variance_cv  \\\n",
       "0          0.718159                     44.401691             False   \n",
       "1          0.696173                     41.788046             False   \n",
       "2          0.699430                     40.315221             False   \n",
       "3          0.685778                     38.916659             False   \n",
       "4          0.668776                     35.664140             False   \n",
       "5          0.560719                     17.399261             False   \n",
       "6          0.581441                     11.391175             False   \n",
       "7          0.500000                      0.000000             False   \n",
       "8          0.500000                      0.000000             False   \n",
       "\n",
       "                                          parameters  \n",
       "0  {'Imputer': {'categorical_impute_strategy': 'm...  \n",
       "1  {'Imputer': {'categorical_impute_strategy': 'm...  \n",
       "2  {'Imputer': {'categorical_impute_strategy': 'm...  \n",
       "3  {'Imputer': {'categorical_impute_strategy': 'm...  \n",
       "4  {'Imputer': {'categorical_impute_strategy': 'm...  \n",
       "5  {'Imputer': {'categorical_impute_strategy': 'm...  \n",
       "6  {'Imputer': {'categorical_impute_strategy': 'm...  \n",
       "7      {'Baseline Classifier': {'strategy': 'mode'}}  \n",
       "8  {'Imputer': {'categorical_impute_strategy': 'm...  "
      ]
     },
     "execution_count": 12,
     "metadata": {},
     "output_type": "execute_result"
    }
   ],
   "source": [
    "%%time\n",
    "automl_auc.rankings"
   ]
  },
  {
   "cell_type": "markdown",
   "metadata": {},
   "source": [
    "Like before, we can look at the rankings and pick the best pipeline."
   ]
  },
  {
   "cell_type": "code",
   "execution_count": 13,
   "metadata": {},
   "outputs": [
    {
     "name": "stdout",
     "output_type": "stream",
     "text": [
      "CPU times: user 5 \u00b5s, sys: 0 ns, total: 5 \u00b5s\n",
      "Wall time: 8.11 \u00b5s\n"
     ]
    }
   ],
   "source": [
    "%%time\n",
    "best_pipeline_auc = automl_auc.best_pipeline"
   ]
  },
  {
   "cell_type": "code",
   "execution_count": 14,
   "metadata": {},
   "outputs": [
    {
     "name": "stdout",
     "output_type": "stream",
     "text": [
      "CPU times: user 130 ms, sys: 16.1 ms, total: 146 ms\n",
      "Wall time: 129 ms\n"
     ]
    },
    {
     "data": {
      "text/plain": [
       "OrderedDict([('AUC', 0.6735040797824116),\n",
       "             ('Lead Scoring', -0.008598452278589854)])"
      ]
     },
     "execution_count": 14,
     "metadata": {},
     "output_type": "execute_result"
    }
   ],
   "source": [
    "%%time\n",
    "# get the auc and lead scoring score on holdout data\n",
    "best_pipeline_auc.score(X_holdout, y_holdout,  objectives=[\"auc\", lead_scoring_objective])"
   ]
  },
  {
   "cell_type": "markdown",
   "metadata": {},
   "source": [
    "When we optimize for AUC, we can see that the AUC score from this pipeline is better than the AUC score from the pipeline optimized for lead scoring. However, the revenue per lead gained was only `$7` per lead when optimized for AUC and was `$45` when optimized for lead scoring. As a result, we would gain up to 6x the amount of revenue if we optimized for lead scoring.\n",
    "\n",
    "This happens because optimizing for AUC does not take into account the user-specified true_positive (dollar amount to be gained with a successful lead) and false_positive (dollar amount to be lost with an unsuccessful lead) values. Thus, the best pipelines may produce the highest AUC but may not actually generate the most revenue through lead scoring.\n",
    "\n",
    "This example highlights how performance in the real world can diverge greatly from machine learning metrics."
   ]
  }
 ],
 "metadata": {
  "kernelspec": {
   "display_name": "evalml_bash",
   "language": "python",
   "name": "evalml_bash"
  },
  "language_info": {
   "codemirror_mode": {
    "name": "ipython",
    "version": 3
   },
   "file_extension": ".py",
   "mimetype": "text/x-python",
   "name": "python",
   "nbconvert_exporter": "python",
   "pygments_lexer": "ipython3",
   "version": "3.8.6"
  }
 },
 "nbformat": 4,
 "nbformat_minor": 4
}