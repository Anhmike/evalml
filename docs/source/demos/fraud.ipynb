{
 "cells": [
  {
   "cell_type": "markdown",
   "metadata": {},
   "source": [
    "# Building a Fraud Prediction Model with EvalML\n",
    "\n",
    "In this demo, we will build an optimized fraud prediction model using EvalML. To optimize the pipeline, we will set up an objective function to minimize the percentage of total transaction value lost to fraud. At the end of this demo, we also show you how introducing the right objective during the training is over 4x better than using a generic machine learning metric like AUC."
   ]
  },
  {
   "cell_type": "code",
   "execution_count": 1,
   "metadata": {},
   "outputs": [
    {
     "name": "stdout",
     "output_type": "stream",
     "text": [
      "CPU times: user 2.91 s, sys: 685 ms, total: 3.6 s\n",
      "Wall time: 2 s\n"
     ]
    }
   ],
   "source": [
    "%%time\n",
    "import evalml\n",
    "from evalml import AutoMLSearch\n",
    "from evalml.objectives import FraudCost"
   ]
  },
  {
   "cell_type": "markdown",
   "metadata": {},
   "source": [
    "## Configure \"Cost of Fraud\" \n",
    "\n",
    "To optimize the pipelines toward the specific business needs of this model, we can set our own assumptions for the cost of fraud. These parameters are\n",
    "\n",
    "* `retry_percentage` - what percentage of customers will retry a transaction if it is declined?\n",
    "* `interchange_fee` - how much of each successful transaction do you collect?\n",
    "* `fraud_payout_percentage` - the percentage of fraud will you be unable to collect\n",
    "* `amount_col` - the column in the data the represents the transaction amount\n",
    "\n",
    "Using these parameters, EvalML determines attempt to build a pipeline that will minimize the financial loss due to fraud."
   ]
  },
  {
   "cell_type": "code",
   "execution_count": 2,
   "metadata": {},
   "outputs": [
    {
     "name": "stdout",
     "output_type": "stream",
     "text": [
      "CPU times: user 5 \u00b5s, sys: 1 \u00b5s, total: 6 \u00b5s\n",
      "Wall time: 7.87 \u00b5s\n"
     ]
    }
   ],
   "source": [
    "%%time\n",
    "fraud_objective = FraudCost(retry_percentage=.5,\n",
    "                            interchange_fee=.02,\n",
    "                            fraud_payout_percentage=.75,\n",
    "                            amount_col='amount')"
   ]
  },
  {
   "cell_type": "markdown",
   "metadata": {},
   "source": [
    "## Search for best pipeline"
   ]
  },
  {
   "cell_type": "markdown",
   "metadata": {},
   "source": [
    "In order to validate the results of the pipeline creation and optimization process, we will save some of our data as the holdout set."
   ]
  },
  {
   "cell_type": "code",
   "execution_count": 3,
   "metadata": {},
   "outputs": [
    {
     "name": "stdout",
     "output_type": "stream",
     "text": [
      "             Number of Features\n",
      "Boolean                       1\n",
      "Categorical                   6\n",
      "Numeric                       5\n",
      "\n",
      "Number of training examples: 1000\n",
      "Targets\n",
      "False    85.90%\n",
      "True     14.10%\n",
      "Name: fraud, dtype: object\n",
      "CPU times: user 43 ms, sys: 4.18 ms, total: 47.2 ms\n",
      "Wall time: 45.3 ms\n"
     ]
    }
   ],
   "source": [
    "%%time\n",
    "X, y = evalml.demos.load_fraud(n_rows=1000)"
   ]
  },
  {
   "cell_type": "markdown",
   "metadata": {},
   "source": [
    "EvalML natively supports one-hot encoding. Here we keep 1 out of the 6 categorical columns to decrease computation time."
   ]
  },
  {
   "cell_type": "code",
   "execution_count": 4,
   "metadata": {},
   "outputs": [
    {
     "name": "stdout",
     "output_type": "stream",
     "text": [
      "                 Physical Type Logical Type Semantic Tag(s)\n",
      "Data Column                                                \n",
      "card_id                  Int64      Integer     ['numeric']\n",
      "store_id                 Int64      Integer     ['numeric']\n",
      "amount                   Int64      Integer     ['numeric']\n",
      "currency              category  Categorical    ['category']\n",
      "customer_present       boolean      Boolean              []\n",
      "lat                    float64       Double     ['numeric']\n",
      "lng                    float64       Double     ['numeric']\n",
      "CPU times: user 12.2 ms, sys: 2.05 ms, total: 14.3 ms\n",
      "Wall time: 12.6 ms\n"
     ]
    }
   ],
   "source": [
    "%%time\n",
    "cols_to_drop = ['datetime', 'expiration_date', 'country', 'region', 'provider']\n",
    "for col in cols_to_drop:\n",
    "    X.pop(col)\n",
    "\n",
    "X_train, X_holdout, y_train, y_holdout = evalml.preprocessing.split_data(X, y, problem_type='binary', test_size=0.2, random_state=0)\n",
    "\n",
    "print(X.types)"
   ]
  },
  {
   "cell_type": "markdown",
   "metadata": {},
   "source": [
    "Because the fraud labels are binary, we will use `AutoMLSearch(X_train=X_train, y_train=y_train, problem_type='binary')`. When we call `.search()`, the search for the best pipeline will begin. "
   ]
  },
  {
   "cell_type": "code",
   "execution_count": 5,
   "metadata": {},
   "outputs": [
    {
     "name": "stdout",
     "output_type": "stream",
     "text": [
      "Generating pipelines to search over...\n",
      "*****************************\n",
      "* Beginning pipeline search *\n",
      "*****************************\n",
      "\n",
      "Optimizing for Fraud Cost. \n",
      "Lower score is better.\n",
      "\n",
      "Searching up to 1 batches for a total of 9 pipelines. \n",
      "Allowed model families: extra_trees, catboost, lightgbm, linear_model, xgboost, decision_tree, random_forest\n",
      "\n"
     ]
    },
    {
     "data": {
      "application/vnd.jupyter.widget-view+json": {
       "model_id": "38e4a3f0b49b4141beecfac4ccb6b545",
       "version_major": 2,
       "version_minor": 0
      },
      "text/plain": [
       "FigureWidget({\n",
       "    'data': [{'mode': 'lines+markers',\n",
       "              'name': 'Best Score',\n",
       "              'type'\u2026"
      ]
     },
     "metadata": {},
     "output_type": "display_data"
    },
    {
     "name": "stdout",
     "output_type": "stream",
     "text": [
      "Batch 1: (1/9) Mode Baseline Binary Classification P... Elapsed:00:00\n",
      "\tStarting cross validation\n",
      "\tFinished cross validation - mean Fraud Cost: 0.033\n",
      "High coefficient of variation (cv >= 0.2) within cross validation scores. Mode Baseline Binary Classification Pipeline may not perform as estimated on unseen data.\n",
      "Batch 1: (2/9) Logistic Regression Classifier w/ Imp... Elapsed:00:00\n",
      "\tStarting cross validation\n",
      "\tFinished cross validation - mean Fraud Cost: 0.008\n",
      "High coefficient of variation (cv >= 0.2) within cross validation scores. Logistic Regression Classifier w/ Imputer + One Hot Encoder + Standard Scaler may not perform as estimated on unseen data.\n",
      "Batch 1: (3/9) Random Forest Classifier w/ Imputer +... Elapsed:00:03\n",
      "\tStarting cross validation\n",
      "\tFinished cross validation - mean Fraud Cost: 0.002\n",
      "Batch 1: (4/9) XGBoost Classifier w/ Imputer + One H... Elapsed:00:04\n",
      "\tStarting cross validation\n",
      "\tFinished cross validation - mean Fraud Cost: 0.002\n",
      "Batch 1: (5/9) CatBoost Classifier w/ Imputer           Elapsed:00:06\n",
      "\tStarting cross validation\n",
      "\tFinished cross validation - mean Fraud Cost: 0.002\n",
      "Batch 1: (6/9) Elastic Net Classifier w/ Imputer + O... Elapsed:00:07\n",
      "\tStarting cross validation\n",
      "\tFinished cross validation - mean Fraud Cost: 0.002\n",
      "Batch 1: (7/9) Extra Trees Classifier w/ Imputer + O... Elapsed:00:08\n",
      "\tStarting cross validation\n",
      "\tFinished cross validation - mean Fraud Cost: 0.002\n",
      "Batch 1: (8/9) LightGBM Classifier w/ Imputer + One ... Elapsed:00:09\n",
      "\tStarting cross validation\n",
      "\tFinished cross validation - mean Fraud Cost: 0.030\n",
      "High coefficient of variation (cv >= 0.2) within cross validation scores. LightGBM Classifier w/ Imputer + One Hot Encoder may not perform as estimated on unseen data.\n",
      "Batch 1: (9/9) Decision Tree Classifier w/ Imputer +... Elapsed:00:10\n",
      "\tStarting cross validation\n",
      "\tFinished cross validation - mean Fraud Cost: 0.012\n",
      "High coefficient of variation (cv >= 0.2) within cross validation scores. Decision Tree Classifier w/ Imputer + One Hot Encoder may not perform as estimated on unseen data.\n",
      "\n",
      "Search finished after 00:11            \n",
      "Best pipeline: Random Forest Classifier w/ Imputer + One Hot Encoder\n",
      "Best pipeline Fraud Cost: 0.002066\n",
      "CPU times: user 48.9 s, sys: 1.64 s, total: 50.5 s\n",
      "Wall time: 12.8 s\n"
     ]
    }
   ],
   "source": [
    "%%time\n",
    "automl = AutoMLSearch(X_train=X_train, y_train=y_train,\n",
    "                      problem_type='binary', \n",
    "                      objective=fraud_objective,\n",
    "                      additional_objectives=['auc', 'f1', 'precision'],\n",
    "                      max_batches=1,\n",
    "                      optimize_thresholds=True)\n",
    "\n",
    "automl.search()"
   ]
  },
  {
   "cell_type": "markdown",
   "metadata": {},
   "source": [
    "### View rankings and select pipelines\n",
    "\n",
    "Once the fitting process is done, we can see all of the pipelines that were searched, ranked by their score on the fraud detection objective we defined."
   ]
  },
  {
   "cell_type": "code",
   "execution_count": 6,
   "metadata": {},
   "outputs": [
    {
     "name": "stdout",
     "output_type": "stream",
     "text": [
      "CPU times: user 5.69 ms, sys: 1.01 ms, total: 6.69 ms\n",
      "Wall time: 5.84 ms\n"
     ]
    },
    {
     "data": {
      "text/html": [
       "<div>\n",
       "<style scoped>\n",
       "    .dataframe tbody tr th:only-of-type {\n",
       "        vertical-align: middle;\n",
       "    }\n",
       "\n",
       "    .dataframe tbody tr th {\n",
       "        vertical-align: top;\n",
       "    }\n",
       "\n",
       "    .dataframe thead th {\n",
       "        text-align: right;\n",
       "    }\n",
       "</style>\n",
       "<table border=\"1\" class=\"dataframe\">\n",
       "  <thead>\n",
       "    <tr style=\"text-align: right;\">\n",
       "      <th></th>\n",
       "      <th>id</th>\n",
       "      <th>pipeline_name</th>\n",
       "      <th>score</th>\n",
       "      <th>validation_score</th>\n",
       "      <th>percent_better_than_baseline</th>\n",
       "      <th>high_variance_cv</th>\n",
       "      <th>parameters</th>\n",
       "    </tr>\n",
       "  </thead>\n",
       "  <tbody>\n",
       "    <tr>\n",
       "      <th>0</th>\n",
       "      <td>2</td>\n",
       "      <td>Random Forest Classifier w/ Imputer + One Hot ...</td>\n",
       "      <td>0.002066</td>\n",
       "      <td>0.002410</td>\n",
       "      <td>93.770164</td>\n",
       "      <td>False</td>\n",
       "      <td>{'Imputer': {'categorical_impute_strategy': 'm...</td>\n",
       "    </tr>\n",
       "    <tr>\n",
       "      <th>1</th>\n",
       "      <td>3</td>\n",
       "      <td>XGBoost Classifier w/ Imputer + One Hot Encoder</td>\n",
       "      <td>0.002066</td>\n",
       "      <td>0.002410</td>\n",
       "      <td>93.770164</td>\n",
       "      <td>False</td>\n",
       "      <td>{'Imputer': {'categorical_impute_strategy': 'm...</td>\n",
       "    </tr>\n",
       "    <tr>\n",
       "      <th>2</th>\n",
       "      <td>4</td>\n",
       "      <td>CatBoost Classifier w/ Imputer</td>\n",
       "      <td>0.002066</td>\n",
       "      <td>0.002410</td>\n",
       "      <td>93.770164</td>\n",
       "      <td>False</td>\n",
       "      <td>{'Imputer': {'categorical_impute_strategy': 'm...</td>\n",
       "    </tr>\n",
       "    <tr>\n",
       "      <th>3</th>\n",
       "      <td>5</td>\n",
       "      <td>Elastic Net Classifier w/ Imputer + One Hot En...</td>\n",
       "      <td>0.002066</td>\n",
       "      <td>0.002410</td>\n",
       "      <td>93.770164</td>\n",
       "      <td>False</td>\n",
       "      <td>{'Imputer': {'categorical_impute_strategy': 'm...</td>\n",
       "    </tr>\n",
       "    <tr>\n",
       "      <th>4</th>\n",
       "      <td>6</td>\n",
       "      <td>Extra Trees Classifier w/ Imputer + One Hot En...</td>\n",
       "      <td>0.002066</td>\n",
       "      <td>0.002410</td>\n",
       "      <td>93.770164</td>\n",
       "      <td>False</td>\n",
       "      <td>{'Imputer': {'categorical_impute_strategy': 'm...</td>\n",
       "    </tr>\n",
       "    <tr>\n",
       "      <th>5</th>\n",
       "      <td>1</td>\n",
       "      <td>Logistic Regression Classifier w/ Imputer + On...</td>\n",
       "      <td>0.008345</td>\n",
       "      <td>0.021246</td>\n",
       "      <td>74.838144</td>\n",
       "      <td>True</td>\n",
       "      <td>{'Imputer': {'categorical_impute_strategy': 'm...</td>\n",
       "    </tr>\n",
       "    <tr>\n",
       "      <th>6</th>\n",
       "      <td>8</td>\n",
       "      <td>Decision Tree Classifier w/ Imputer + One Hot ...</td>\n",
       "      <td>0.012008</td>\n",
       "      <td>0.003189</td>\n",
       "      <td>63.792696</td>\n",
       "      <td>True</td>\n",
       "      <td>{'Imputer': {'categorical_impute_strategy': 'm...</td>\n",
       "    </tr>\n",
       "    <tr>\n",
       "      <th>7</th>\n",
       "      <td>7</td>\n",
       "      <td>LightGBM Classifier w/ Imputer + One Hot Encoder</td>\n",
       "      <td>0.029568</td>\n",
       "      <td>0.021246</td>\n",
       "      <td>10.845280</td>\n",
       "      <td>True</td>\n",
       "      <td>{'Imputer': {'categorical_impute_strategy': 'm...</td>\n",
       "    </tr>\n",
       "    <tr>\n",
       "      <th>8</th>\n",
       "      <td>0</td>\n",
       "      <td>Mode Baseline Binary Classification Pipeline</td>\n",
       "      <td>0.033165</td>\n",
       "      <td>0.021246</td>\n",
       "      <td>0.000000</td>\n",
       "      <td>True</td>\n",
       "      <td>{'Baseline Classifier': {'strategy': 'mode'}}</td>\n",
       "    </tr>\n",
       "  </tbody>\n",
       "</table>\n",
       "</div>"
      ],
      "text/plain": [
       "   id                                      pipeline_name     score  \\\n",
       "0   2  Random Forest Classifier w/ Imputer + One Hot ...  0.002066   \n",
       "1   3    XGBoost Classifier w/ Imputer + One Hot Encoder  0.002066   \n",
       "2   4                     CatBoost Classifier w/ Imputer  0.002066   \n",
       "3   5  Elastic Net Classifier w/ Imputer + One Hot En...  0.002066   \n",
       "4   6  Extra Trees Classifier w/ Imputer + One Hot En...  0.002066   \n",
       "5   1  Logistic Regression Classifier w/ Imputer + On...  0.008345   \n",
       "6   8  Decision Tree Classifier w/ Imputer + One Hot ...  0.012008   \n",
       "7   7   LightGBM Classifier w/ Imputer + One Hot Encoder  0.029568   \n",
       "8   0       Mode Baseline Binary Classification Pipeline  0.033165   \n",
       "\n",
       "   validation_score  percent_better_than_baseline  high_variance_cv  \\\n",
       "0          0.002410                     93.770164             False   \n",
       "1          0.002410                     93.770164             False   \n",
       "2          0.002410                     93.770164             False   \n",
       "3          0.002410                     93.770164             False   \n",
       "4          0.002410                     93.770164             False   \n",
       "5          0.021246                     74.838144              True   \n",
       "6          0.003189                     63.792696              True   \n",
       "7          0.021246                     10.845280              True   \n",
       "8          0.021246                      0.000000              True   \n",
       "\n",
       "                                          parameters  \n",
       "0  {'Imputer': {'categorical_impute_strategy': 'm...  \n",
       "1  {'Imputer': {'categorical_impute_strategy': 'm...  \n",
       "2  {'Imputer': {'categorical_impute_strategy': 'm...  \n",
       "3  {'Imputer': {'categorical_impute_strategy': 'm...  \n",
       "4  {'Imputer': {'categorical_impute_strategy': 'm...  \n",
       "5  {'Imputer': {'categorical_impute_strategy': 'm...  \n",
       "6  {'Imputer': {'categorical_impute_strategy': 'm...  \n",
       "7  {'Imputer': {'categorical_impute_strategy': 'm...  \n",
       "8      {'Baseline Classifier': {'strategy': 'mode'}}  "
      ]
     },
     "execution_count": 6,
     "metadata": {},
     "output_type": "execute_result"
    }
   ],
   "source": [
    "%%time\n",
    "automl.rankings"
   ]
  },
  {
   "cell_type": "markdown",
   "metadata": {},
   "source": [
    "To select the best pipeline we can call `automl.best_pipeline`."
   ]
  },
  {
   "cell_type": "code",
   "execution_count": 7,
   "metadata": {},
   "outputs": [
    {
     "name": "stdout",
     "output_type": "stream",
     "text": [
      "CPU times: user 6 \u00b5s, sys: 1e+03 ns, total: 7 \u00b5s\n",
      "Wall time: 8.82 \u00b5s\n"
     ]
    }
   ],
   "source": [
    "%%time\n",
    "best_pipeline = automl.best_pipeline"
   ]
  },
  {
   "cell_type": "markdown",
   "metadata": {},
   "source": [
    "### Describe pipelines\n",
    "\n",
    "We can get more details about any pipeline created during the search process, including how it performed on other objective functions, by calling the `describe_pipeline` method and passing the `id` of the pipeline of interest."
   ]
  },
  {
   "cell_type": "code",
   "execution_count": 8,
   "metadata": {},
   "outputs": [
    {
     "name": "stdout",
     "output_type": "stream",
     "text": [
      "***************************************************\n",
      "* XGBoost Classifier w/ Imputer + One Hot Encoder *\n",
      "***************************************************\n",
      "\n",
      "Problem Type: binary\n",
      "Model Family: XGBoost\n",
      "\n",
      "Pipeline Steps\n",
      "==============\n",
      "1. Imputer\n",
      "\t * categorical_impute_strategy : most_frequent\n",
      "\t * numeric_impute_strategy : mean\n",
      "\t * categorical_fill_value : None\n",
      "\t * numeric_fill_value : None\n",
      "2. One Hot Encoder\n",
      "\t * top_n : 10\n",
      "\t * features_to_encode : None\n",
      "\t * categories : None\n",
      "\t * drop : None\n",
      "\t * handle_unknown : ignore\n",
      "\t * handle_missing : error\n",
      "3. XGBoost Classifier\n",
      "\t * eta : 0.1\n",
      "\t * max_depth : 6\n",
      "\t * min_child_weight : 1\n",
      "\t * n_estimators : 100\n",
      "\n",
      "Training\n",
      "========\n",
      "Training for binary problems.\n",
      "Objective to optimize binary classification pipeline thresholds for: <evalml.objectives.fraud_cost.FraudCost object at 0x146dc4220>\n",
      "Total training time (including CV): 1.4 seconds\n",
      "\n",
      "Cross Validation\n",
      "----------------\n",
      "             Fraud Cost   AUC    F1  Precision # Training # Validation\n",
      "0                 0.002 0.794 0.249      0.142    426.000      267.000\n",
      "1                 0.002 0.891 0.249      0.142    426.000      267.000\n",
      "2                 0.002 0.791 0.244      0.139    427.000      266.000\n",
      "mean              0.002 0.825 0.248      0.141          -            -\n",
      "std               0.000 0.057 0.003      0.002          -            -\n",
      "coef of var       0.155 0.069 0.012      0.013          -            -\n",
      "CPU times: user 33.4 ms, sys: 7.93 ms, total: 41.3 ms\n",
      "Wall time: 38 ms\n"
     ]
    }
   ],
   "source": [
    "%%time\n",
    "automl.describe_pipeline(automl.rankings.iloc[1][\"id\"])"
   ]
  },
  {
   "cell_type": "markdown",
   "metadata": {},
   "source": [
    "## Evaluate on holdout data\n",
    "\n",
    "Finally, since the best pipeline is already trained, we evaluate it on the holdout data."
   ]
  },
  {
   "cell_type": "markdown",
   "metadata": {},
   "source": [
    "Now, we can score the pipeline on the holdout data using both our fraud cost objective and the AUC (Area under the ROC Curve) objective."
   ]
  },
  {
   "cell_type": "code",
   "execution_count": 9,
   "metadata": {},
   "outputs": [
    {
     "name": "stdout",
     "output_type": "stream",
     "text": [
      "CPU times: user 128 ms, sys: 15.2 ms, total: 144 ms\n",
      "Wall time: 134 ms\n"
     ]
    },
    {
     "data": {
      "text/plain": [
       "OrderedDict([('AUC', 0.8257890365448505),\n",
       "             ('Fraud Cost', 0.0019819080665371956)])"
      ]
     },
     "execution_count": 9,
     "metadata": {},
     "output_type": "execute_result"
    }
   ],
   "source": [
    "%%time\n",
    "best_pipeline.score(X_holdout, y_holdout, objectives=[\"auc\", fraud_objective])"
   ]
  },
  {
   "cell_type": "markdown",
   "metadata": {},
   "source": [
    "## Why optimize for a problem-specific objective?\n",
    "\n",
    "To demonstrate the importance of optimizing for the right objective, let's search for another pipeline using AUC, a common machine learning metric. After that, we will score the holdout data using the fraud cost objective to see how the best pipelines compare."
   ]
  },
  {
   "cell_type": "code",
   "execution_count": 10,
   "metadata": {},
   "outputs": [
    {
     "name": "stdout",
     "output_type": "stream",
     "text": [
      "Generating pipelines to search over...\n",
      "*****************************\n",
      "* Beginning pipeline search *\n",
      "*****************************\n",
      "\n",
      "Optimizing for AUC. \n",
      "Greater score is better.\n",
      "\n",
      "Searching up to 1 batches for a total of 9 pipelines. \n",
      "Allowed model families: extra_trees, catboost, lightgbm, linear_model, xgboost, decision_tree, random_forest\n",
      "\n"
     ]
    },
    {
     "data": {
      "application/vnd.jupyter.widget-view+json": {
       "model_id": "95745f921da84f9a864a493b57eca29e",
       "version_major": 2,
       "version_minor": 0
      },
      "text/plain": [
       "FigureWidget({\n",
       "    'data': [{'mode': 'lines+markers',\n",
       "              'name': 'Best Score',\n",
       "              'type'\u2026"
      ]
     },
     "metadata": {},
     "output_type": "display_data"
    },
    {
     "name": "stdout",
     "output_type": "stream",
     "text": [
      "Batch 1: (1/9) Mode Baseline Binary Classification P... Elapsed:00:00\n",
      "\tStarting cross validation\n",
      "\tFinished cross validation - mean AUC: 0.500\n",
      "Batch 1: (2/9) Logistic Regression Classifier w/ Imp... Elapsed:00:00\n",
      "\tStarting cross validation\n",
      "\tFinished cross validation - mean AUC: 0.758\n",
      "Batch 1: (3/9) Random Forest Classifier w/ Imputer +... Elapsed:00:00\n",
      "\tStarting cross validation\n",
      "\tFinished cross validation - mean AUC: 0.844\n",
      "Batch 1: (4/9) XGBoost Classifier w/ Imputer + One H... Elapsed:00:01\n",
      "\tStarting cross validation\n",
      "\tFinished cross validation - mean AUC: 0.851\n",
      "Batch 1: (5/9) CatBoost Classifier w/ Imputer           Elapsed:00:02\n",
      "\tStarting cross validation\n",
      "\tFinished cross validation - mean AUC: 0.842\n",
      "Batch 1: (6/9) Elastic Net Classifier w/ Imputer + O... Elapsed:00:03\n",
      "\tStarting cross validation\n",
      "\tFinished cross validation - mean AUC: 0.500\n",
      "Batch 1: (7/9) Extra Trees Classifier w/ Imputer + O... Elapsed:00:03\n",
      "\tStarting cross validation\n",
      "\tFinished cross validation - mean AUC: 0.794\n",
      "Batch 1: (8/9) LightGBM Classifier w/ Imputer + One ... Elapsed:00:04\n",
      "\tStarting cross validation\n",
      "\tFinished cross validation - mean AUC: 0.852\n",
      "Batch 1: (9/9) Decision Tree Classifier w/ Imputer +... Elapsed:00:05\n",
      "\tStarting cross validation\n",
      "\tFinished cross validation - mean AUC: 0.826\n",
      "\n",
      "Search finished after 00:05            \n",
      "Best pipeline: LightGBM Classifier w/ Imputer + One Hot Encoder\n",
      "Best pipeline AUC: 0.852408\n",
      "CPU times: user 31.9 s, sys: 1.89 s, total: 33.8 s\n",
      "Wall time: 6.16 s\n"
     ]
    }
   ],
   "source": [
    "%%time\n",
    "automl_auc = AutoMLSearch(X_train=X_train, y_train=y_train,\n",
    "                          problem_type='binary',\n",
    "                          objective='auc',\n",
    "                          additional_objectives=['f1', 'precision'],\n",
    "                          max_batches=1,\n",
    "                          optimize_thresholds=True)\n",
    "\n",
    "automl_auc.search()"
   ]
  },
  {
   "cell_type": "markdown",
   "metadata": {},
   "source": [
    "Like before, we can look at the rankings of all of the pipelines searched and pick the best pipeline."
   ]
  },
  {
   "cell_type": "code",
   "execution_count": 11,
   "metadata": {},
   "outputs": [
    {
     "name": "stdout",
     "output_type": "stream",
     "text": [
      "CPU times: user 59.8 ms, sys: 8.1 ms, total: 67.9 ms\n",
      "Wall time: 4.9 ms\n"
     ]
    },
    {
     "data": {
      "text/html": [
       "<div>\n",
       "<style scoped>\n",
       "    .dataframe tbody tr th:only-of-type {\n",
       "        vertical-align: middle;\n",
       "    }\n",
       "\n",
       "    .dataframe tbody tr th {\n",
       "        vertical-align: top;\n",
       "    }\n",
       "\n",
       "    .dataframe thead th {\n",
       "        text-align: right;\n",
       "    }\n",
       "</style>\n",
       "<table border=\"1\" class=\"dataframe\">\n",
       "  <thead>\n",
       "    <tr style=\"text-align: right;\">\n",
       "      <th></th>\n",
       "      <th>id</th>\n",
       "      <th>pipeline_name</th>\n",
       "      <th>score</th>\n",
       "      <th>validation_score</th>\n",
       "      <th>percent_better_than_baseline</th>\n",
       "      <th>high_variance_cv</th>\n",
       "      <th>parameters</th>\n",
       "    </tr>\n",
       "  </thead>\n",
       "  <tbody>\n",
       "    <tr>\n",
       "      <th>0</th>\n",
       "      <td>7</td>\n",
       "      <td>LightGBM Classifier w/ Imputer + One Hot Encoder</td>\n",
       "      <td>0.852408</td>\n",
       "      <td>0.831763</td>\n",
       "      <td>70.481675</td>\n",
       "      <td>False</td>\n",
       "      <td>{'Imputer': {'categorical_impute_strategy': 'm...</td>\n",
       "    </tr>\n",
       "    <tr>\n",
       "      <th>1</th>\n",
       "      <td>3</td>\n",
       "      <td>XGBoost Classifier w/ Imputer + One Hot Encoder</td>\n",
       "      <td>0.850947</td>\n",
       "      <td>0.825328</td>\n",
       "      <td>70.189415</td>\n",
       "      <td>False</td>\n",
       "      <td>{'Imputer': {'categorical_impute_strategy': 'm...</td>\n",
       "    </tr>\n",
       "    <tr>\n",
       "      <th>2</th>\n",
       "      <td>2</td>\n",
       "      <td>Random Forest Classifier w/ Imputer + One Hot ...</td>\n",
       "      <td>0.844367</td>\n",
       "      <td>0.821765</td>\n",
       "      <td>68.873367</td>\n",
       "      <td>False</td>\n",
       "      <td>{'Imputer': {'categorical_impute_strategy': 'm...</td>\n",
       "    </tr>\n",
       "    <tr>\n",
       "      <th>3</th>\n",
       "      <td>4</td>\n",
       "      <td>CatBoost Classifier w/ Imputer</td>\n",
       "      <td>0.842214</td>\n",
       "      <td>0.825040</td>\n",
       "      <td>68.442897</td>\n",
       "      <td>False</td>\n",
       "      <td>{'Imputer': {'categorical_impute_strategy': 'm...</td>\n",
       "    </tr>\n",
       "    <tr>\n",
       "      <th>4</th>\n",
       "      <td>8</td>\n",
       "      <td>Decision Tree Classifier w/ Imputer + One Hot ...</td>\n",
       "      <td>0.825663</td>\n",
       "      <td>0.815100</td>\n",
       "      <td>65.132692</td>\n",
       "      <td>False</td>\n",
       "      <td>{'Imputer': {'categorical_impute_strategy': 'm...</td>\n",
       "    </tr>\n",
       "    <tr>\n",
       "      <th>5</th>\n",
       "      <td>6</td>\n",
       "      <td>Extra Trees Classifier w/ Imputer + One Hot En...</td>\n",
       "      <td>0.794342</td>\n",
       "      <td>0.741209</td>\n",
       "      <td>58.868418</td>\n",
       "      <td>False</td>\n",
       "      <td>{'Imputer': {'categorical_impute_strategy': 'm...</td>\n",
       "    </tr>\n",
       "    <tr>\n",
       "      <th>6</th>\n",
       "      <td>1</td>\n",
       "      <td>Logistic Regression Classifier w/ Imputer + On...</td>\n",
       "      <td>0.758291</td>\n",
       "      <td>0.673408</td>\n",
       "      <td>51.658208</td>\n",
       "      <td>False</td>\n",
       "      <td>{'Imputer': {'categorical_impute_strategy': 'm...</td>\n",
       "    </tr>\n",
       "    <tr>\n",
       "      <th>7</th>\n",
       "      <td>0</td>\n",
       "      <td>Mode Baseline Binary Classification Pipeline</td>\n",
       "      <td>0.500000</td>\n",
       "      <td>0.500000</td>\n",
       "      <td>0.000000</td>\n",
       "      <td>False</td>\n",
       "      <td>{'Baseline Classifier': {'strategy': 'mode'}}</td>\n",
       "    </tr>\n",
       "    <tr>\n",
       "      <th>8</th>\n",
       "      <td>5</td>\n",
       "      <td>Elastic Net Classifier w/ Imputer + One Hot En...</td>\n",
       "      <td>0.500000</td>\n",
       "      <td>0.500000</td>\n",
       "      <td>0.000000</td>\n",
       "      <td>False</td>\n",
       "      <td>{'Imputer': {'categorical_impute_strategy': 'm...</td>\n",
       "    </tr>\n",
       "  </tbody>\n",
       "</table>\n",
       "</div>"
      ],
      "text/plain": [
       "   id                                      pipeline_name     score  \\\n",
       "0   7   LightGBM Classifier w/ Imputer + One Hot Encoder  0.852408   \n",
       "1   3    XGBoost Classifier w/ Imputer + One Hot Encoder  0.850947   \n",
       "2   2  Random Forest Classifier w/ Imputer + One Hot ...  0.844367   \n",
       "3   4                     CatBoost Classifier w/ Imputer  0.842214   \n",
       "4   8  Decision Tree Classifier w/ Imputer + One Hot ...  0.825663   \n",
       "5   6  Extra Trees Classifier w/ Imputer + One Hot En...  0.794342   \n",
       "6   1  Logistic Regression Classifier w/ Imputer + On...  0.758291   \n",
       "7   0       Mode Baseline Binary Classification Pipeline  0.500000   \n",
       "8   5  Elastic Net Classifier w/ Imputer + One Hot En...  0.500000   \n",
       "\n",
       "   validation_score  percent_better_than_baseline  high_variance_cv  \\\n",
       "0          0.831763                     70.481675             False   \n",
       "1          0.825328                     70.189415             False   \n",
       "2          0.821765                     68.873367             False   \n",
       "3          0.825040                     68.442897             False   \n",
       "4          0.815100                     65.132692             False   \n",
       "5          0.741209                     58.868418             False   \n",
       "6          0.673408                     51.658208             False   \n",
       "7          0.500000                      0.000000             False   \n",
       "8          0.500000                      0.000000             False   \n",
       "\n",
       "                                          parameters  \n",
       "0  {'Imputer': {'categorical_impute_strategy': 'm...  \n",
       "1  {'Imputer': {'categorical_impute_strategy': 'm...  \n",
       "2  {'Imputer': {'categorical_impute_strategy': 'm...  \n",
       "3  {'Imputer': {'categorical_impute_strategy': 'm...  \n",
       "4  {'Imputer': {'categorical_impute_strategy': 'm...  \n",
       "5  {'Imputer': {'categorical_impute_strategy': 'm...  \n",
       "6  {'Imputer': {'categorical_impute_strategy': 'm...  \n",
       "7      {'Baseline Classifier': {'strategy': 'mode'}}  \n",
       "8  {'Imputer': {'categorical_impute_strategy': 'm...  "
      ]
     },
     "execution_count": 11,
     "metadata": {},
     "output_type": "execute_result"
    }
   ],
   "source": [
    "%%time\n",
    "automl_auc.rankings"
   ]
  },
  {
   "cell_type": "code",
   "execution_count": 12,
   "metadata": {},
   "outputs": [
    {
     "name": "stdout",
     "output_type": "stream",
     "text": [
      "CPU times: user 35 \u00b5s, sys: 6 \u00b5s, total: 41 \u00b5s\n",
      "Wall time: 9.06 \u00b5s\n"
     ]
    }
   ],
   "source": [
    "%%time\n",
    "best_pipeline_auc = automl_auc.best_pipeline"
   ]
  },
  {
   "cell_type": "code",
   "execution_count": 13,
   "metadata": {},
   "outputs": [
    {
     "name": "stdout",
     "output_type": "stream",
     "text": [
      "CPU times: user 1.87 s, sys: 108 ms, total: 1.98 s\n",
      "Wall time: 133 ms\n"
     ]
    },
    {
     "data": {
      "text/plain": [
       "OrderedDict([('AUC', 0.9067691029900331),\n",
       "             ('Fraud Cost', 0.024416589442515867)])"
      ]
     },
     "execution_count": 13,
     "metadata": {},
     "output_type": "execute_result"
    }
   ],
   "source": [
    "%%time\n",
    "# get the fraud score on holdout data\n",
    "best_pipeline_auc.score(X_holdout, y_holdout,  objectives=[\"auc\", fraud_objective])"
   ]
  },
  {
   "cell_type": "code",
   "execution_count": 14,
   "metadata": {},
   "outputs": [
    {
     "name": "stdout",
     "output_type": "stream",
     "text": [
      "CPU times: user 2.14 s, sys: 103 ms, total: 2.25 s\n",
      "Wall time: 147 ms\n"
     ]
    },
    {
     "data": {
      "text/plain": [
       "OrderedDict([('AUC', 0.8257890365448505),\n",
       "             ('Fraud Cost', 0.0019819080665371956)])"
      ]
     },
     "execution_count": 14,
     "metadata": {},
     "output_type": "execute_result"
    }
   ],
   "source": [
    "%%time\n",
    "# fraud score on fraud optimized again\n",
    "best_pipeline.score(X_holdout, y_holdout, objectives=[\"auc\", fraud_objective])"
   ]
  },
  {
   "cell_type": "markdown",
   "metadata": {},
   "source": [
    "When we optimize for AUC, we can see that the AUC score from this pipeline is better than the AUC score from the pipeline optimized for fraud cost. However, the losses due to fraud are over 3% of the total transaction amount when optimized for AUC and under 1% when optimized for fraud cost. As a result, we lose more than 2% of the total transaction amount by not optimizing for fraud cost specifically.\n",
    "\n",
    "This happens because optimizing for AUC does not take into account the user-specified `retry_percentage`, `interchange_fee`, `fraud_payout_percentage` values. Thus, the best pipelines may produce the highest AUC but may not actually reduce the amount loss due to your specific type fraud.\n",
    "\n",
    "This example highlights how performance in the real world can diverge greatly from machine learning metrics."
   ]
  }
 ],
 "metadata": {
  "kernelspec": {
   "display_name": "evalml_bash",
   "language": "python",
   "name": "evalml_bash"
  },
  "language_info": {
   "codemirror_mode": {
    "name": "ipython",
    "version": 3
   },
   "file_extension": ".py",
   "mimetype": "text/x-python",
   "name": "python",
   "nbconvert_exporter": "python",
   "pygments_lexer": "ipython3",
   "version": "3.8.6"
  }
 },
 "nbformat": 4,
 "nbformat_minor": 4
}