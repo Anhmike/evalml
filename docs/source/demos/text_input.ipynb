{
 "cells": [
  {
   "cell_type": "markdown",
   "metadata": {},
   "source": [
    "# Using Text Data with EvalML\n",
    "\n",
    "In this demo, we will show you how to use EvalML to build models which use text data. "
   ]
  },
  {
   "cell_type": "code",
   "execution_count": 1,
   "metadata": {},
   "outputs": [],
   "source": [
    "import evalml\n",
    "from evalml import AutoMLSearch"
   ]
  },
  {
   "cell_type": "markdown",
   "metadata": {},
   "source": [
    "## Dataset\n",
    "\n",
    "We will be utilizing a dataset of SMS text messages, some of which are categorized as spam, and others which are not (\"ham\"). This dataset is originally from [Kaggle](https://www.kaggle.com/uciml/sms-spam-collection-dataset), but modified to produce a slightly more even distribution of spam to ham."
   ]
  },
  {
   "cell_type": "code",
   "execution_count": 2,
   "metadata": {},
   "outputs": [
    {
     "data": {
      "text/html": [
       "<div>\n",
       "<style scoped>\n",
       "    .dataframe tbody tr th:only-of-type {\n",
       "        vertical-align: middle;\n",
       "    }\n",
       "\n",
       "    .dataframe tbody tr th {\n",
       "        vertical-align: top;\n",
       "    }\n",
       "\n",
       "    .dataframe thead th {\n",
       "        text-align: right;\n",
       "    }\n",
       "</style>\n",
       "<table border=\"1\" class=\"dataframe\">\n",
       "  <thead>\n",
       "    <tr style=\"text-align: right;\">\n",
       "      <th></th>\n",
       "      <th>Message</th>\n",
       "    </tr>\n",
       "  </thead>\n",
       "  <tbody>\n",
       "    <tr>\n",
       "      <th>0</th>\n",
       "      <td>Free entry in 2 a wkly comp to win FA Cup fina...</td>\n",
       "    </tr>\n",
       "    <tr>\n",
       "      <th>1</th>\n",
       "      <td>FreeMsg Hey there darling it's been 3 week's n...</td>\n",
       "    </tr>\n",
       "    <tr>\n",
       "      <th>2</th>\n",
       "      <td>WINNER!! As a valued network customer you have...</td>\n",
       "    </tr>\n",
       "    <tr>\n",
       "      <th>3</th>\n",
       "      <td>Had your mobile 11 months or more? U R entitle...</td>\n",
       "    </tr>\n",
       "    <tr>\n",
       "      <th>4</th>\n",
       "      <td>SIX chances to win CASH! From 100 to 20,000 po...</td>\n",
       "    </tr>\n",
       "  </tbody>\n",
       "</table>\n",
       "</div>"
      ],
      "text/plain": [
       "                                             Message\n",
       "0  Free entry in 2 a wkly comp to win FA Cup fina...\n",
       "1  FreeMsg Hey there darling it's been 3 week's n...\n",
       "2  WINNER!! As a valued network customer you have...\n",
       "3  Had your mobile 11 months or more? U R entitle...\n",
       "4  SIX chances to win CASH! From 100 to 20,000 po..."
      ]
     },
     "metadata": {},
     "output_type": "display_data"
    },
    {
     "name": "stdout",
     "output_type": "stream",
     "text": [
      "CPU times: user 27.7 ms, sys: 5.8 ms, total: 33.5 ms\n",
      "Wall time: 265 ms\n"
     ]
    }
   ],
   "source": [
    "%%time\n",
    "from urllib.request import urlopen\n",
    "import pandas as pd\n",
    "\n",
    "input_data = urlopen('https://featurelabs-static.s3.amazonaws.com/spam_text_messages_modified.csv')\n",
    "data = pd.read_csv(input_data)\n",
    "\n",
    "X = data.drop(['Category'], axis=1)\n",
    "y = data['Category']\n",
    "\n",
    "display(X.head())"
   ]
  },
  {
   "cell_type": "markdown",
   "metadata": {},
   "source": [
    "The ham vs spam distribution of the data is 3:1, so any machine learning model must get above 75% [accuracy](https://en.wikipedia.org/wiki/Accuracy_and_precision#In_binary_classification) in order to perform better than a trivial baseline model which simply classifies everything as ham. "
   ]
  },
  {
   "cell_type": "code",
   "execution_count": 3,
   "metadata": {},
   "outputs": [
    {
     "name": "stdout",
     "output_type": "stream",
     "text": [
      "CPU times: user 1.45 ms, sys: 617 \u00b5s, total: 2.07 ms\n",
      "Wall time: 1.52 ms\n"
     ]
    },
    {
     "data": {
      "text/plain": [
       "ham     0.750084\n",
       "spam    0.249916\n",
       "Name: Category, dtype: float64"
      ]
     },
     "execution_count": 3,
     "metadata": {},
     "output_type": "execute_result"
    }
   ],
   "source": [
    "%%time\n",
    "y.value_counts(normalize=True)"
   ]
  },
  {
   "cell_type": "markdown",
   "metadata": {},
   "source": [
    "## Search for best pipeline"
   ]
  },
  {
   "cell_type": "markdown",
   "metadata": {},
   "source": [
    "In order to validate the results of the pipeline creation and optimization process, we will save some of our data as a holdout set."
   ]
  },
  {
   "cell_type": "code",
   "execution_count": 4,
   "metadata": {},
   "outputs": [
    {
     "name": "stdout",
     "output_type": "stream",
     "text": [
      "CPU times: user 18.4 ms, sys: 1.87 ms, total: 20.3 ms\n",
      "Wall time: 19.1 ms\n"
     ]
    }
   ],
   "source": [
    "%%time\n",
    "X_train, X_holdout, y_train, y_holdout = evalml.preprocessing.split_data(X, y, problem_type='binary', test_size=0.2, random_state=0)"
   ]
  },
  {
   "cell_type": "markdown",
   "metadata": {},
   "source": [
    "EvalML uses [Woodwork](https://woodwork.alteryx.com/en/stable/) to automatically detect which columns are text columns, so you can run search normally, as you would if there was no text data. We can print out the logical type of the `Message` column and assert that it is indeed inferred as a natural language column."
   ]
  },
  {
   "cell_type": "code",
   "execution_count": 5,
   "metadata": {},
   "outputs": [
    {
     "name": "stdout",
     "output_type": "stream",
     "text": [
      "CPU times: user 844 \u00b5s, sys: 19 \u00b5s, total: 863 \u00b5s\n",
      "Wall time: 864 \u00b5s\n"
     ]
    },
    {
     "data": {
      "text/html": [
       "<div>\n",
       "<style scoped>\n",
       "    .dataframe tbody tr th:only-of-type {\n",
       "        vertical-align: middle;\n",
       "    }\n",
       "\n",
       "    .dataframe tbody tr th {\n",
       "        vertical-align: top;\n",
       "    }\n",
       "\n",
       "    .dataframe thead th {\n",
       "        text-align: right;\n",
       "    }\n",
       "</style>\n",
       "<table border=\"1\" class=\"dataframe\">\n",
       "  <thead>\n",
       "    <tr style=\"text-align: right;\">\n",
       "      <th></th>\n",
       "      <th>Physical Type</th>\n",
       "      <th>Logical Type</th>\n",
       "      <th>Semantic Tag(s)</th>\n",
       "    </tr>\n",
       "    <tr>\n",
       "      <th>Data Column</th>\n",
       "      <th></th>\n",
       "      <th></th>\n",
       "      <th></th>\n",
       "    </tr>\n",
       "  </thead>\n",
       "  <tbody>\n",
       "    <tr>\n",
       "      <th>Message</th>\n",
       "      <td>string</td>\n",
       "      <td>NaturalLanguage</td>\n",
       "      <td>[]</td>\n",
       "    </tr>\n",
       "  </tbody>\n",
       "</table>\n",
       "</div>"
      ],
      "text/plain": [
       "            Physical Type     Logical Type Semantic Tag(s)\n",
       "Data Column                                               \n",
       "Message            string  NaturalLanguage              []"
      ]
     },
     "execution_count": 5,
     "metadata": {},
     "output_type": "execute_result"
    }
   ],
   "source": [
    "%%time\n",
    "X_train.types"
   ]
  },
  {
   "cell_type": "markdown",
   "metadata": {},
   "source": [
    "Because the spam/ham labels are binary, we will use `AutoMLSearch(X_train=X_train, y_train=y_train, problem_type='binary')`. When we call `.search()`, the search for the best pipeline will begin. "
   ]
  },
  {
   "cell_type": "code",
   "execution_count": 6,
   "metadata": {},
   "outputs": [
    {
     "name": "stdout",
     "output_type": "stream",
     "text": [
      "Numerical binary classification target classes must be [0, 1], got [ham, spam] instead\n",
      "Generating pipelines to search over...\n",
      "*****************************\n",
      "* Beginning pipeline search *\n",
      "*****************************\n",
      "\n",
      "Optimizing for Log Loss Binary. \n",
      "Lower score is better.\n",
      "\n",
      "Searching up to 1 batches for a total of 9 pipelines. \n",
      "Allowed model families: lightgbm, random_forest, linear_model, extra_trees, catboost, xgboost, decision_tree\n",
      "\n"
     ]
    },
    {
     "data": {
      "application/vnd.jupyter.widget-view+json": {
       "model_id": "c53a00e3cf0749e2b7496b5a816d8279",
       "version_major": 2,
       "version_minor": 0
      },
      "text/plain": [
       "FigureWidget({\n",
       "    'data': [{'mode': 'lines+markers',\n",
       "              'name': 'Best Score',\n",
       "              'type'\u2026"
      ]
     },
     "metadata": {},
     "output_type": "display_data"
    },
    {
     "name": "stdout",
     "output_type": "stream",
     "text": [
      "Batch 1: (1/9) Mode Baseline Binary Classification P... Elapsed:00:00\n",
      "\tStarting cross validation\n",
      "\tFinished cross validation - mean Log Loss Binary: 8.638\n",
      "Batch 1: (2/9) Logistic Regression Classifier w/ Imp... Elapsed:00:00\n",
      "\tStarting cross validation\n",
      "\tFinished cross validation - mean Log Loss Binary: 0.170\n",
      "High coefficient of variation (cv >= 0.2) within cross validation scores. Logistic Regression Classifier w/ Imputer + Text Featurization Component + Standard Scaler may not perform as estimated on unseen data.\n",
      "Batch 1: (3/9) Random Forest Classifier w/ Imputer +... Elapsed:00:11\n",
      "\tStarting cross validation\n",
      "\tFinished cross validation - mean Log Loss Binary: 0.123\n",
      "Batch 1: (4/9) XGBoost Classifier w/ Imputer + Text ... Elapsed:00:20\n",
      "\tStarting cross validation\n",
      "\tFinished cross validation - mean Log Loss Binary: 0.129\n",
      "Batch 1: (5/9) CatBoost Classifier w/ Imputer + Text... Elapsed:00:29\n",
      "\tStarting cross validation\n",
      "\tFinished cross validation - mean Log Loss Binary: 0.519\n",
      "Batch 1: (6/9) Elastic Net Classifier w/ Imputer + T... Elapsed:00:38\n",
      "\tStarting cross validation\n",
      "\tFinished cross validation - mean Log Loss Binary: 0.531\n",
      "Batch 1: (7/9) Extra Trees Classifier w/ Imputer + T... Elapsed:00:46\n",
      "\tStarting cross validation\n",
      "\tFinished cross validation - mean Log Loss Binary: 0.220\n",
      "Batch 1: (8/9) LightGBM Classifier w/ Imputer + Text... Elapsed:00:55\n",
      "\tStarting cross validation\n",
      "\tFinished cross validation - mean Log Loss Binary: 0.171\n",
      "Batch 1: (9/9) Decision Tree Classifier w/ Imputer +... Elapsed:01:04\n",
      "\tStarting cross validation\n",
      "\tFinished cross validation - mean Log Loss Binary: 0.726\n",
      "\n",
      "Search finished after 01:13            \n",
      "Best pipeline: Random Forest Classifier w/ Imputer + Text Featurization Component\n",
      "Best pipeline Log Loss Binary: 0.123494\n",
      "CPU times: user 2min 26s, sys: 22.3 s, total: 2min 48s\n",
      "Wall time: 1min 16s\n"
     ]
    }
   ],
   "source": [
    "%%time\n",
    "automl = AutoMLSearch(X_train=X_train, y_train=y_train,\n",
    "                      problem_type='binary',\n",
    "                      max_batches=1,\n",
    "                      optimize_thresholds=True)\n",
    "\n",
    "automl.search()"
   ]
  },
  {
   "cell_type": "markdown",
   "metadata": {},
   "source": [
    "### View rankings and select pipeline\n",
    "\n",
    "Once the fitting process is done, we can see all of the pipelines that were searched."
   ]
  },
  {
   "cell_type": "code",
   "execution_count": 7,
   "metadata": {},
   "outputs": [
    {
     "name": "stdout",
     "output_type": "stream",
     "text": [
      "CPU times: user 4.01 ms, sys: 265 \u00b5s, total: 4.28 ms\n",
      "Wall time: 4.11 ms\n"
     ]
    },
    {
     "data": {
      "text/html": [
       "<div>\n",
       "<style scoped>\n",
       "    .dataframe tbody tr th:only-of-type {\n",
       "        vertical-align: middle;\n",
       "    }\n",
       "\n",
       "    .dataframe tbody tr th {\n",
       "        vertical-align: top;\n",
       "    }\n",
       "\n",
       "    .dataframe thead th {\n",
       "        text-align: right;\n",
       "    }\n",
       "</style>\n",
       "<table border=\"1\" class=\"dataframe\">\n",
       "  <thead>\n",
       "    <tr style=\"text-align: right;\">\n",
       "      <th></th>\n",
       "      <th>id</th>\n",
       "      <th>pipeline_name</th>\n",
       "      <th>score</th>\n",
       "      <th>validation_score</th>\n",
       "      <th>percent_better_than_baseline</th>\n",
       "      <th>high_variance_cv</th>\n",
       "      <th>parameters</th>\n",
       "    </tr>\n",
       "  </thead>\n",
       "  <tbody>\n",
       "    <tr>\n",
       "      <th>0</th>\n",
       "      <td>2</td>\n",
       "      <td>Random Forest Classifier w/ Imputer + Text Fea...</td>\n",
       "      <td>0.123494</td>\n",
       "      <td>0.129007</td>\n",
       "      <td>98.570392</td>\n",
       "      <td>False</td>\n",
       "      <td>{'Imputer': {'categorical_impute_strategy': 'm...</td>\n",
       "    </tr>\n",
       "    <tr>\n",
       "      <th>1</th>\n",
       "      <td>3</td>\n",
       "      <td>XGBoost Classifier w/ Imputer + Text Featuriza...</td>\n",
       "      <td>0.128840</td>\n",
       "      <td>0.134231</td>\n",
       "      <td>98.508509</td>\n",
       "      <td>False</td>\n",
       "      <td>{'Imputer': {'categorical_impute_strategy': 'm...</td>\n",
       "    </tr>\n",
       "    <tr>\n",
       "      <th>2</th>\n",
       "      <td>1</td>\n",
       "      <td>Logistic Regression Classifier w/ Imputer + Te...</td>\n",
       "      <td>0.170443</td>\n",
       "      <td>0.148005</td>\n",
       "      <td>98.026895</td>\n",
       "      <td>True</td>\n",
       "      <td>{'Imputer': {'categorical_impute_strategy': 'm...</td>\n",
       "    </tr>\n",
       "    <tr>\n",
       "      <th>3</th>\n",
       "      <td>7</td>\n",
       "      <td>LightGBM Classifier w/ Imputer + Text Featuriz...</td>\n",
       "      <td>0.171467</td>\n",
       "      <td>0.183049</td>\n",
       "      <td>98.015036</td>\n",
       "      <td>False</td>\n",
       "      <td>{'Imputer': {'categorical_impute_strategy': 'm...</td>\n",
       "    </tr>\n",
       "    <tr>\n",
       "      <th>4</th>\n",
       "      <td>6</td>\n",
       "      <td>Extra Trees Classifier w/ Imputer + Text Featu...</td>\n",
       "      <td>0.219864</td>\n",
       "      <td>0.250778</td>\n",
       "      <td>97.454783</td>\n",
       "      <td>False</td>\n",
       "      <td>{'Imputer': {'categorical_impute_strategy': 'm...</td>\n",
       "    </tr>\n",
       "    <tr>\n",
       "      <th>5</th>\n",
       "      <td>4</td>\n",
       "      <td>CatBoost Classifier w/ Imputer + Text Featuriz...</td>\n",
       "      <td>0.518860</td>\n",
       "      <td>0.522827</td>\n",
       "      <td>93.993496</td>\n",
       "      <td>False</td>\n",
       "      <td>{'Imputer': {'categorical_impute_strategy': 'm...</td>\n",
       "    </tr>\n",
       "    <tr>\n",
       "      <th>6</th>\n",
       "      <td>5</td>\n",
       "      <td>Elastic Net Classifier w/ Imputer + Text Featu...</td>\n",
       "      <td>0.530537</td>\n",
       "      <td>0.561991</td>\n",
       "      <td>93.858323</td>\n",
       "      <td>False</td>\n",
       "      <td>{'Imputer': {'categorical_impute_strategy': 'm...</td>\n",
       "    </tr>\n",
       "    <tr>\n",
       "      <th>7</th>\n",
       "      <td>8</td>\n",
       "      <td>Decision Tree Classifier w/ Imputer + Text Fea...</td>\n",
       "      <td>0.726110</td>\n",
       "      <td>0.595490</td>\n",
       "      <td>91.594296</td>\n",
       "      <td>False</td>\n",
       "      <td>{'Imputer': {'categorical_impute_strategy': 'm...</td>\n",
       "    </tr>\n",
       "    <tr>\n",
       "      <th>8</th>\n",
       "      <td>0</td>\n",
       "      <td>Mode Baseline Binary Classification Pipeline</td>\n",
       "      <td>8.638305</td>\n",
       "      <td>8.623860</td>\n",
       "      <td>0.000000</td>\n",
       "      <td>False</td>\n",
       "      <td>{'Baseline Classifier': {'strategy': 'mode'}}</td>\n",
       "    </tr>\n",
       "  </tbody>\n",
       "</table>\n",
       "</div>"
      ],
      "text/plain": [
       "   id                                      pipeline_name     score  \\\n",
       "0   2  Random Forest Classifier w/ Imputer + Text Fea...  0.123494   \n",
       "1   3  XGBoost Classifier w/ Imputer + Text Featuriza...  0.128840   \n",
       "2   1  Logistic Regression Classifier w/ Imputer + Te...  0.170443   \n",
       "3   7  LightGBM Classifier w/ Imputer + Text Featuriz...  0.171467   \n",
       "4   6  Extra Trees Classifier w/ Imputer + Text Featu...  0.219864   \n",
       "5   4  CatBoost Classifier w/ Imputer + Text Featuriz...  0.518860   \n",
       "6   5  Elastic Net Classifier w/ Imputer + Text Featu...  0.530537   \n",
       "7   8  Decision Tree Classifier w/ Imputer + Text Fea...  0.726110   \n",
       "8   0       Mode Baseline Binary Classification Pipeline  8.638305   \n",
       "\n",
       "   validation_score  percent_better_than_baseline  high_variance_cv  \\\n",
       "0          0.129007                     98.570392             False   \n",
       "1          0.134231                     98.508509             False   \n",
       "2          0.148005                     98.026895              True   \n",
       "3          0.183049                     98.015036             False   \n",
       "4          0.250778                     97.454783             False   \n",
       "5          0.522827                     93.993496             False   \n",
       "6          0.561991                     93.858323             False   \n",
       "7          0.595490                     91.594296             False   \n",
       "8          8.623860                      0.000000             False   \n",
       "\n",
       "                                          parameters  \n",
       "0  {'Imputer': {'categorical_impute_strategy': 'm...  \n",
       "1  {'Imputer': {'categorical_impute_strategy': 'm...  \n",
       "2  {'Imputer': {'categorical_impute_strategy': 'm...  \n",
       "3  {'Imputer': {'categorical_impute_strategy': 'm...  \n",
       "4  {'Imputer': {'categorical_impute_strategy': 'm...  \n",
       "5  {'Imputer': {'categorical_impute_strategy': 'm...  \n",
       "6  {'Imputer': {'categorical_impute_strategy': 'm...  \n",
       "7  {'Imputer': {'categorical_impute_strategy': 'm...  \n",
       "8      {'Baseline Classifier': {'strategy': 'mode'}}  "
      ]
     },
     "execution_count": 7,
     "metadata": {},
     "output_type": "execute_result"
    }
   ],
   "source": [
    "%%time\n",
    "automl.rankings"
   ]
  },
  {
   "cell_type": "markdown",
   "metadata": {},
   "source": [
    "To select the best pipeline we can call `automl.best_pipeline`."
   ]
  },
  {
   "cell_type": "code",
   "execution_count": 8,
   "metadata": {},
   "outputs": [
    {
     "name": "stdout",
     "output_type": "stream",
     "text": [
      "CPU times: user 4 \u00b5s, sys: 1 \u00b5s, total: 5 \u00b5s\n",
      "Wall time: 7.87 \u00b5s\n"
     ]
    }
   ],
   "source": [
    "%%time\n",
    "best_pipeline = automl.best_pipeline"
   ]
  },
  {
   "cell_type": "markdown",
   "metadata": {},
   "source": [
    "### Describe pipeline\n",
    "\n",
    "You can get more details about any pipeline, including how it performed on other objective functions."
   ]
  },
  {
   "cell_type": "code",
   "execution_count": 9,
   "metadata": {},
   "outputs": [
    {
     "name": "stdout",
     "output_type": "stream",
     "text": [
      "**********************************************************************\n",
      "* Random Forest Classifier w/ Imputer + Text Featurization Component *\n",
      "**********************************************************************\n",
      "\n",
      "Problem Type: binary\n",
      "Model Family: Random Forest\n",
      "\n",
      "Pipeline Steps\n",
      "==============\n",
      "1. Imputer\n",
      "\t * categorical_impute_strategy : most_frequent\n",
      "\t * numeric_impute_strategy : mean\n",
      "\t * categorical_fill_value : None\n",
      "\t * numeric_fill_value : None\n",
      "2. Text Featurization Component\n",
      "\t * text_columns : ['Message']\n",
      "3. Random Forest Classifier\n",
      "\t * n_estimators : 100\n",
      "\t * max_depth : 6\n",
      "\t * n_jobs : -1\n",
      "\n",
      "Training\n",
      "========\n",
      "Training for binary problems.\n",
      "Total training time (including CV): 9.0 seconds\n",
      "\n",
      "Cross Validation\n",
      "----------------\n",
      "             Log Loss Binary  MCC Binary   AUC  Precision    F1  Balanced Accuracy Binary  Accuracy Binary # Training # Validation\n",
      "0                      0.129       0.885 0.979      0.937 0.912                     0.935            0.957   1594.000      797.000\n",
      "1                      0.127       0.892 0.987      0.937 0.918                     0.940            0.960   1594.000      797.000\n",
      "2                      0.114       0.895 0.984      0.952 0.920                     0.937            0.961   1594.000      797.000\n",
      "mean                   0.123       0.891 0.983      0.942 0.917                     0.937            0.959          -            -\n",
      "std                    0.008       0.005 0.004      0.009 0.004                     0.003            0.002          -            -\n",
      "coef of var            0.065       0.006 0.004      0.009 0.004                     0.003            0.002          -            -\n",
      "CPU times: user 35.7 ms, sys: 6.89 ms, total: 42.6 ms\n",
      "Wall time: 39.4 ms\n"
     ]
    }
   ],
   "source": [
    "%%time\n",
    "automl.describe_pipeline(automl.rankings.iloc[0][\"id\"])"
   ]
  },
  {
   "cell_type": "code",
   "execution_count": 10,
   "metadata": {},
   "outputs": [
    {
     "name": "stdout",
     "output_type": "stream",
     "text": [
      "CPU times: user 6.16 ms, sys: 13.1 ms, total: 19.2 ms\n",
      "Wall time: 72.1 ms\n"
     ]
    },
    {
     "data": {
      "image/svg+xml": [
       "<?xml version=\"1.0\" encoding=\"UTF-8\" standalone=\"no\"?>\n",
       "<!DOCTYPE svg PUBLIC \"-//W3C//DTD SVG 1.1//EN\"\n",
       " \"http://www.w3.org/Graphics/SVG/1.1/DTD/svg11.dtd\">\n",
       "<!-- Generated by graphviz version 2.44.1 (20200629.0846)\n",
       " -->\n",
       "<!-- Pages: 1 -->\n",
       "<svg width=\"679pt\" height=\"100pt\"\n",
       " viewBox=\"0.00 0.00 679.00 100.00\" xmlns=\"http://www.w3.org/2000/svg\" xmlns:xlink=\"http://www.w3.org/1999/xlink\">\n",
       "<g id=\"graph0\" class=\"graph\" transform=\"scale(1 1) rotate(0) translate(4 96)\">\n",
       "<polygon fill=\"white\" stroke=\"transparent\" points=\"-4,4 -4,-96 675,-96 675,4 -4,4\"/>\n",
       "<!-- Imputer -->\n",
       "<g id=\"node1\" class=\"node\">\n",
       "<title>Imputer</title>\n",
       "<polygon fill=\"none\" stroke=\"black\" points=\"0,-0.5 0,-91.5 260,-91.5 260,-0.5 0,-0.5\"/>\n",
       "<text text-anchor=\"middle\" x=\"130\" y=\"-76.3\" font-family=\"Times,serif\" font-size=\"14.00\">Imputer</text>\n",
       "<polyline fill=\"none\" stroke=\"black\" points=\"0,-68.5 260,-68.5 \"/>\n",
       "<text text-anchor=\"start\" x=\"8\" y=\"-53.3\" font-family=\"Times,serif\" font-size=\"14.00\">categorical_impute_strategy : most_frequent</text>\n",
       "<text text-anchor=\"start\" x=\"8\" y=\"-38.3\" font-family=\"Times,serif\" font-size=\"14.00\">numeric_impute_strategy : mean</text>\n",
       "<text text-anchor=\"start\" x=\"8\" y=\"-23.3\" font-family=\"Times,serif\" font-size=\"14.00\">categorical_fill_value : None</text>\n",
       "<text text-anchor=\"start\" x=\"8\" y=\"-8.3\" font-family=\"Times,serif\" font-size=\"14.00\">numeric_fill_value : None</text>\n",
       "</g>\n",
       "<!-- Text Featurization Component -->\n",
       "<g id=\"node2\" class=\"node\">\n",
       "<title>Text Featurization Component</title>\n",
       "<polygon fill=\"none\" stroke=\"black\" points=\"296,-23 296,-69 480,-69 480,-23 296,-23\"/>\n",
       "<text text-anchor=\"middle\" x=\"388\" y=\"-53.8\" font-family=\"Times,serif\" font-size=\"14.00\">Text Featurization Component</text>\n",
       "<polyline fill=\"none\" stroke=\"black\" points=\"296,-46 480,-46 \"/>\n",
       "<text text-anchor=\"start\" x=\"304\" y=\"-30.8\" font-family=\"Times,serif\" font-size=\"14.00\">text_columns : [&#39;Message&#39;]</text>\n",
       "</g>\n",
       "<!-- Imputer&#45;&gt;Text Featurization Component -->\n",
       "<g id=\"edge1\" class=\"edge\">\n",
       "<title>Imputer&#45;&gt;Text Featurization Component</title>\n",
       "<path fill=\"none\" stroke=\"black\" d=\"M260.13,-46C260.13,-46 285.74,-46 285.74,-46\"/>\n",
       "<polygon fill=\"black\" stroke=\"black\" points=\"285.74,-49.5 295.74,-46 285.74,-42.5 285.74,-49.5\"/>\n",
       "</g>\n",
       "<!-- Random Forest Classifier -->\n",
       "<g id=\"node3\" class=\"node\">\n",
       "<title>Random Forest Classifier</title>\n",
       "<polygon fill=\"none\" stroke=\"black\" points=\"516,-8 516,-84 671,-84 671,-8 516,-8\"/>\n",
       "<text text-anchor=\"middle\" x=\"593.5\" y=\"-68.8\" font-family=\"Times,serif\" font-size=\"14.00\">Random Forest Classifier</text>\n",
       "<polyline fill=\"none\" stroke=\"black\" points=\"516,-61 671,-61 \"/>\n",
       "<text text-anchor=\"start\" x=\"524\" y=\"-45.8\" font-family=\"Times,serif\" font-size=\"14.00\">n_estimators : 100</text>\n",
       "<text text-anchor=\"start\" x=\"524\" y=\"-30.8\" font-family=\"Times,serif\" font-size=\"14.00\">max_depth : 6</text>\n",
       "<text text-anchor=\"start\" x=\"524\" y=\"-15.8\" font-family=\"Times,serif\" font-size=\"14.00\">n_jobs : &#45;1</text>\n",
       "</g>\n",
       "<!-- Text Featurization Component&#45;&gt;Random Forest Classifier -->\n",
       "<g id=\"edge2\" class=\"edge\">\n",
       "<title>Text Featurization Component&#45;&gt;Random Forest Classifier</title>\n",
       "<path fill=\"none\" stroke=\"black\" d=\"M480.23,-46C480.23,-46 505.69,-46 505.69,-46\"/>\n",
       "<polygon fill=\"black\" stroke=\"black\" points=\"505.69,-49.5 515.69,-46 505.69,-42.5 505.69,-49.5\"/>\n",
       "</g>\n",
       "</g>\n",
       "</svg>\n"
      ],
      "text/plain": [
       "<graphviz.dot.Digraph at 0x13e6a5fd0>"
      ]
     },
     "execution_count": 10,
     "metadata": {},
     "output_type": "execute_result"
    }
   ],
   "source": [
    "%%time\n",
    "best_pipeline.graph()"
   ]
  },
  {
   "cell_type": "markdown",
   "metadata": {},
   "source": [
    "Notice above that there is a `Text Featurization Component` as the second step in the pipeline. The Woodwork `DataTable` passed in to AutoML search recognizes that `'Message'` is a text column, and converts this text into numerical values that can be handled by the estimator."
   ]
  },
  {
   "cell_type": "markdown",
   "metadata": {},
   "source": [
    "## Evaluate on holdout"
   ]
  },
  {
   "cell_type": "markdown",
   "metadata": {},
   "source": [
    "Now, we can score the pipeline on the holdout data using the core objectives for binary classification problems."
   ]
  },
  {
   "cell_type": "code",
   "execution_count": 11,
   "metadata": {},
   "outputs": [
    {
     "name": "stdout",
     "output_type": "stream",
     "text": [
      "Accuracy Binary: 0.9732441471571907\n",
      "CPU times: user 983 ms, sys: 138 ms, total: 1.12 s\n",
      "Wall time: 1.11 s\n"
     ]
    }
   ],
   "source": [
    "%%time\n",
    "scores = best_pipeline.score(X_holdout, y_holdout,  objectives=evalml.objectives.get_core_objectives('binary'))\n",
    "print(f'Accuracy Binary: {scores[\"Accuracy Binary\"]}')"
   ]
  },
  {
   "cell_type": "markdown",
   "metadata": {},
   "source": [
    "As you can see, this model performs relatively well on this dataset, even on unseen data."
   ]
  },
  {
   "cell_type": "markdown",
   "metadata": {},
   "source": [
    "## Why encode text this way?\n",
    "\n",
    "To demonstrate the importance of text-specific modeling, let's train a model with the same dataset, without letting `AutoMLSearch` detect the text column. We can change this by explicitly setting the data type of the `'Message'` column in Woodwork to `Categorical`."
   ]
  },
  {
   "cell_type": "code",
   "execution_count": 12,
   "metadata": {},
   "outputs": [
    {
     "name": "stdout",
     "output_type": "stream",
     "text": [
      "CPU times: user 12.3 ms, sys: 1.53 ms, total: 13.9 ms\n",
      "Wall time: 12.3 ms\n"
     ]
    }
   ],
   "source": [
    "%%time\n",
    "import woodwork as ww\n",
    "X_train_categorical = X_train.set_types(logical_types={'Message': 'Categorical'})"
   ]
  },
  {
   "cell_type": "code",
   "execution_count": 13,
   "metadata": {},
   "outputs": [
    {
     "name": "stdout",
     "output_type": "stream",
     "text": [
      "Numerical binary classification target classes must be [0, 1], got [ham, spam] instead\n",
      "Generating pipelines to search over...\n",
      "*****************************\n",
      "* Beginning pipeline search *\n",
      "*****************************\n",
      "\n",
      "Optimizing for Log Loss Binary. \n",
      "Lower score is better.\n",
      "\n",
      "Searching up to 1 batches for a total of 9 pipelines. \n",
      "Allowed model families: lightgbm, random_forest, linear_model, extra_trees, catboost, xgboost, decision_tree\n",
      "\n"
     ]
    },
    {
     "data": {
      "application/vnd.jupyter.widget-view+json": {
       "model_id": "e2f833d6c6304b80990d46dfac7d2e52",
       "version_major": 2,
       "version_minor": 0
      },
      "text/plain": [
       "FigureWidget({\n",
       "    'data': [{'mode': 'lines+markers',\n",
       "              'name': 'Best Score',\n",
       "              'type'\u2026"
      ]
     },
     "metadata": {},
     "output_type": "display_data"
    },
    {
     "name": "stdout",
     "output_type": "stream",
     "text": [
      "Batch 1: (1/9) Mode Baseline Binary Classification P... Elapsed:00:00\n",
      "\tStarting cross validation\n",
      "\tFinished cross validation - mean Log Loss Binary: 8.638\n",
      "Batch 1: (2/9) Logistic Regression Classifier w/ Imp... Elapsed:00:00\n",
      "\tStarting cross validation\n",
      "\tFinished cross validation - mean Log Loss Binary: 0.170\n",
      "High coefficient of variation (cv >= 0.2) within cross validation scores. Logistic Regression Classifier w/ Imputer + Text Featurization Component + Standard Scaler may not perform as estimated on unseen data.\n",
      "Batch 1: (3/9) Random Forest Classifier w/ Imputer +... Elapsed:00:09\n",
      "\tStarting cross validation\n",
      "\tFinished cross validation - mean Log Loss Binary: 0.123\n",
      "Batch 1: (4/9) XGBoost Classifier w/ Imputer + Text ... Elapsed:00:19\n",
      "\tStarting cross validation\n",
      "\tFinished cross validation - mean Log Loss Binary: 0.129\n",
      "Batch 1: (5/9) CatBoost Classifier w/ Imputer + Text... Elapsed:00:28\n",
      "\tStarting cross validation\n",
      "\tFinished cross validation - mean Log Loss Binary: 0.519\n",
      "Batch 1: (6/9) Elastic Net Classifier w/ Imputer + T... Elapsed:00:36\n",
      "\tStarting cross validation\n",
      "\tFinished cross validation - mean Log Loss Binary: 0.531\n",
      "Batch 1: (7/9) Extra Trees Classifier w/ Imputer + T... Elapsed:00:45\n",
      "\tStarting cross validation\n",
      "\tFinished cross validation - mean Log Loss Binary: 0.220\n",
      "Batch 1: (8/9) LightGBM Classifier w/ Imputer + Text... Elapsed:00:53\n",
      "\tStarting cross validation\n",
      "\tFinished cross validation - mean Log Loss Binary: 0.171\n",
      "Batch 1: (9/9) Decision Tree Classifier w/ Imputer +... Elapsed:01:02\n",
      "\tStarting cross validation\n",
      "\tFinished cross validation - mean Log Loss Binary: 0.726\n",
      "\n",
      "Search finished after 01:11            \n",
      "Best pipeline: Random Forest Classifier w/ Imputer + Text Featurization Component\n",
      "Best pipeline Log Loss Binary: 0.123494\n",
      "CPU times: user 2min 28s, sys: 19.4 s, total: 2min 47s\n",
      "Wall time: 1min 13s\n"
     ]
    }
   ],
   "source": [
    "%%time\n",
    "automl_no_text = AutoMLSearch(X_train=X_train, y_train=y_train,\n",
    "                              problem_type='binary',\n",
    "                              max_batches=1,\n",
    "                              optimize_thresholds=True)\n",
    "\n",
    "automl_no_text.search()"
   ]
  },
  {
   "cell_type": "markdown",
   "metadata": {},
   "source": [
    "Like before, we can look at the rankings and pick the best pipeline."
   ]
  },
  {
   "cell_type": "code",
   "execution_count": 14,
   "metadata": {},
   "outputs": [
    {
     "name": "stdout",
     "output_type": "stream",
     "text": [
      "CPU times: user 3.85 ms, sys: 607 \u00b5s, total: 4.46 ms\n",
      "Wall time: 3.9 ms\n"
     ]
    },
    {
     "data": {
      "text/html": [
       "<div>\n",
       "<style scoped>\n",
       "    .dataframe tbody tr th:only-of-type {\n",
       "        vertical-align: middle;\n",
       "    }\n",
       "\n",
       "    .dataframe tbody tr th {\n",
       "        vertical-align: top;\n",
       "    }\n",
       "\n",
       "    .dataframe thead th {\n",
       "        text-align: right;\n",
       "    }\n",
       "</style>\n",
       "<table border=\"1\" class=\"dataframe\">\n",
       "  <thead>\n",
       "    <tr style=\"text-align: right;\">\n",
       "      <th></th>\n",
       "      <th>id</th>\n",
       "      <th>pipeline_name</th>\n",
       "      <th>score</th>\n",
       "      <th>validation_score</th>\n",
       "      <th>percent_better_than_baseline</th>\n",
       "      <th>high_variance_cv</th>\n",
       "      <th>parameters</th>\n",
       "    </tr>\n",
       "  </thead>\n",
       "  <tbody>\n",
       "    <tr>\n",
       "      <th>0</th>\n",
       "      <td>2</td>\n",
       "      <td>Random Forest Classifier w/ Imputer + Text Fea...</td>\n",
       "      <td>0.123494</td>\n",
       "      <td>0.129007</td>\n",
       "      <td>98.570392</td>\n",
       "      <td>False</td>\n",
       "      <td>{'Imputer': {'categorical_impute_strategy': 'm...</td>\n",
       "    </tr>\n",
       "    <tr>\n",
       "      <th>1</th>\n",
       "      <td>3</td>\n",
       "      <td>XGBoost Classifier w/ Imputer + Text Featuriza...</td>\n",
       "      <td>0.128840</td>\n",
       "      <td>0.134231</td>\n",
       "      <td>98.508509</td>\n",
       "      <td>False</td>\n",
       "      <td>{'Imputer': {'categorical_impute_strategy': 'm...</td>\n",
       "    </tr>\n",
       "    <tr>\n",
       "      <th>2</th>\n",
       "      <td>1</td>\n",
       "      <td>Logistic Regression Classifier w/ Imputer + Te...</td>\n",
       "      <td>0.170443</td>\n",
       "      <td>0.148005</td>\n",
       "      <td>98.026895</td>\n",
       "      <td>True</td>\n",
       "      <td>{'Imputer': {'categorical_impute_strategy': 'm...</td>\n",
       "    </tr>\n",
       "    <tr>\n",
       "      <th>3</th>\n",
       "      <td>7</td>\n",
       "      <td>LightGBM Classifier w/ Imputer + Text Featuriz...</td>\n",
       "      <td>0.171467</td>\n",
       "      <td>0.183049</td>\n",
       "      <td>98.015036</td>\n",
       "      <td>False</td>\n",
       "      <td>{'Imputer': {'categorical_impute_strategy': 'm...</td>\n",
       "    </tr>\n",
       "    <tr>\n",
       "      <th>4</th>\n",
       "      <td>6</td>\n",
       "      <td>Extra Trees Classifier w/ Imputer + Text Featu...</td>\n",
       "      <td>0.219864</td>\n",
       "      <td>0.250778</td>\n",
       "      <td>97.454783</td>\n",
       "      <td>False</td>\n",
       "      <td>{'Imputer': {'categorical_impute_strategy': 'm...</td>\n",
       "    </tr>\n",
       "    <tr>\n",
       "      <th>5</th>\n",
       "      <td>4</td>\n",
       "      <td>CatBoost Classifier w/ Imputer + Text Featuriz...</td>\n",
       "      <td>0.518860</td>\n",
       "      <td>0.522827</td>\n",
       "      <td>93.993496</td>\n",
       "      <td>False</td>\n",
       "      <td>{'Imputer': {'categorical_impute_strategy': 'm...</td>\n",
       "    </tr>\n",
       "    <tr>\n",
       "      <th>6</th>\n",
       "      <td>5</td>\n",
       "      <td>Elastic Net Classifier w/ Imputer + Text Featu...</td>\n",
       "      <td>0.530537</td>\n",
       "      <td>0.561991</td>\n",
       "      <td>93.858323</td>\n",
       "      <td>False</td>\n",
       "      <td>{'Imputer': {'categorical_impute_strategy': 'm...</td>\n",
       "    </tr>\n",
       "    <tr>\n",
       "      <th>7</th>\n",
       "      <td>8</td>\n",
       "      <td>Decision Tree Classifier w/ Imputer + Text Fea...</td>\n",
       "      <td>0.726110</td>\n",
       "      <td>0.595490</td>\n",
       "      <td>91.594296</td>\n",
       "      <td>False</td>\n",
       "      <td>{'Imputer': {'categorical_impute_strategy': 'm...</td>\n",
       "    </tr>\n",
       "    <tr>\n",
       "      <th>8</th>\n",
       "      <td>0</td>\n",
       "      <td>Mode Baseline Binary Classification Pipeline</td>\n",
       "      <td>8.638305</td>\n",
       "      <td>8.623860</td>\n",
       "      <td>0.000000</td>\n",
       "      <td>False</td>\n",
       "      <td>{'Baseline Classifier': {'strategy': 'mode'}}</td>\n",
       "    </tr>\n",
       "  </tbody>\n",
       "</table>\n",
       "</div>"
      ],
      "text/plain": [
       "   id                                      pipeline_name     score  \\\n",
       "0   2  Random Forest Classifier w/ Imputer + Text Fea...  0.123494   \n",
       "1   3  XGBoost Classifier w/ Imputer + Text Featuriza...  0.128840   \n",
       "2   1  Logistic Regression Classifier w/ Imputer + Te...  0.170443   \n",
       "3   7  LightGBM Classifier w/ Imputer + Text Featuriz...  0.171467   \n",
       "4   6  Extra Trees Classifier w/ Imputer + Text Featu...  0.219864   \n",
       "5   4  CatBoost Classifier w/ Imputer + Text Featuriz...  0.518860   \n",
       "6   5  Elastic Net Classifier w/ Imputer + Text Featu...  0.530537   \n",
       "7   8  Decision Tree Classifier w/ Imputer + Text Fea...  0.726110   \n",
       "8   0       Mode Baseline Binary Classification Pipeline  8.638305   \n",
       "\n",
       "   validation_score  percent_better_than_baseline  high_variance_cv  \\\n",
       "0          0.129007                     98.570392             False   \n",
       "1          0.134231                     98.508509             False   \n",
       "2          0.148005                     98.026895              True   \n",
       "3          0.183049                     98.015036             False   \n",
       "4          0.250778                     97.454783             False   \n",
       "5          0.522827                     93.993496             False   \n",
       "6          0.561991                     93.858323             False   \n",
       "7          0.595490                     91.594296             False   \n",
       "8          8.623860                      0.000000             False   \n",
       "\n",
       "                                          parameters  \n",
       "0  {'Imputer': {'categorical_impute_strategy': 'm...  \n",
       "1  {'Imputer': {'categorical_impute_strategy': 'm...  \n",
       "2  {'Imputer': {'categorical_impute_strategy': 'm...  \n",
       "3  {'Imputer': {'categorical_impute_strategy': 'm...  \n",
       "4  {'Imputer': {'categorical_impute_strategy': 'm...  \n",
       "5  {'Imputer': {'categorical_impute_strategy': 'm...  \n",
       "6  {'Imputer': {'categorical_impute_strategy': 'm...  \n",
       "7  {'Imputer': {'categorical_impute_strategy': 'm...  \n",
       "8      {'Baseline Classifier': {'strategy': 'mode'}}  "
      ]
     },
     "execution_count": 14,
     "metadata": {},
     "output_type": "execute_result"
    }
   ],
   "source": [
    "%%time\n",
    "automl_no_text.rankings"
   ]
  },
  {
   "cell_type": "code",
   "execution_count": 15,
   "metadata": {},
   "outputs": [
    {
     "name": "stdout",
     "output_type": "stream",
     "text": [
      "CPU times: user 6 \u00b5s, sys: 1 \u00b5s, total: 7 \u00b5s\n",
      "Wall time: 8.82 \u00b5s\n"
     ]
    }
   ],
   "source": [
    "%%time\n",
    "best_pipeline_no_text = automl_no_text.best_pipeline"
   ]
  },
  {
   "cell_type": "markdown",
   "metadata": {},
   "source": [
    "Here, changing the data type of the text column removed the `Text Featurization Component` from the pipeline."
   ]
  },
  {
   "cell_type": "code",
   "execution_count": 16,
   "metadata": {},
   "outputs": [
    {
     "name": "stdout",
     "output_type": "stream",
     "text": [
      "CPU times: user 3.48 ms, sys: 13 ms, total: 16.5 ms\n",
      "Wall time: 71.7 ms\n"
     ]
    },
    {
     "data": {
      "image/svg+xml": [
       "<?xml version=\"1.0\" encoding=\"UTF-8\" standalone=\"no\"?>\n",
       "<!DOCTYPE svg PUBLIC \"-//W3C//DTD SVG 1.1//EN\"\n",
       " \"http://www.w3.org/Graphics/SVG/1.1/DTD/svg11.dtd\">\n",
       "<!-- Generated by graphviz version 2.44.1 (20200629.0846)\n",
       " -->\n",
       "<!-- Pages: 1 -->\n",
       "<svg width=\"679pt\" height=\"100pt\"\n",
       " viewBox=\"0.00 0.00 679.00 100.00\" xmlns=\"http://www.w3.org/2000/svg\" xmlns:xlink=\"http://www.w3.org/1999/xlink\">\n",
       "<g id=\"graph0\" class=\"graph\" transform=\"scale(1 1) rotate(0) translate(4 96)\">\n",
       "<polygon fill=\"white\" stroke=\"transparent\" points=\"-4,4 -4,-96 675,-96 675,4 -4,4\"/>\n",
       "<!-- Imputer -->\n",
       "<g id=\"node1\" class=\"node\">\n",
       "<title>Imputer</title>\n",
       "<polygon fill=\"none\" stroke=\"black\" points=\"0,-0.5 0,-91.5 260,-91.5 260,-0.5 0,-0.5\"/>\n",
       "<text text-anchor=\"middle\" x=\"130\" y=\"-76.3\" font-family=\"Times,serif\" font-size=\"14.00\">Imputer</text>\n",
       "<polyline fill=\"none\" stroke=\"black\" points=\"0,-68.5 260,-68.5 \"/>\n",
       "<text text-anchor=\"start\" x=\"8\" y=\"-53.3\" font-family=\"Times,serif\" font-size=\"14.00\">categorical_impute_strategy : most_frequent</text>\n",
       "<text text-anchor=\"start\" x=\"8\" y=\"-38.3\" font-family=\"Times,serif\" font-size=\"14.00\">numeric_impute_strategy : mean</text>\n",
       "<text text-anchor=\"start\" x=\"8\" y=\"-23.3\" font-family=\"Times,serif\" font-size=\"14.00\">categorical_fill_value : None</text>\n",
       "<text text-anchor=\"start\" x=\"8\" y=\"-8.3\" font-family=\"Times,serif\" font-size=\"14.00\">numeric_fill_value : None</text>\n",
       "</g>\n",
       "<!-- Text Featurization Component -->\n",
       "<g id=\"node2\" class=\"node\">\n",
       "<title>Text Featurization Component</title>\n",
       "<polygon fill=\"none\" stroke=\"black\" points=\"296,-23 296,-69 480,-69 480,-23 296,-23\"/>\n",
       "<text text-anchor=\"middle\" x=\"388\" y=\"-53.8\" font-family=\"Times,serif\" font-size=\"14.00\">Text Featurization Component</text>\n",
       "<polyline fill=\"none\" stroke=\"black\" points=\"296,-46 480,-46 \"/>\n",
       "<text text-anchor=\"start\" x=\"304\" y=\"-30.8\" font-family=\"Times,serif\" font-size=\"14.00\">text_columns : [&#39;Message&#39;]</text>\n",
       "</g>\n",
       "<!-- Imputer&#45;&gt;Text Featurization Component -->\n",
       "<g id=\"edge1\" class=\"edge\">\n",
       "<title>Imputer&#45;&gt;Text Featurization Component</title>\n",
       "<path fill=\"none\" stroke=\"black\" d=\"M260.13,-46C260.13,-46 285.74,-46 285.74,-46\"/>\n",
       "<polygon fill=\"black\" stroke=\"black\" points=\"285.74,-49.5 295.74,-46 285.74,-42.5 285.74,-49.5\"/>\n",
       "</g>\n",
       "<!-- Random Forest Classifier -->\n",
       "<g id=\"node3\" class=\"node\">\n",
       "<title>Random Forest Classifier</title>\n",
       "<polygon fill=\"none\" stroke=\"black\" points=\"516,-8 516,-84 671,-84 671,-8 516,-8\"/>\n",
       "<text text-anchor=\"middle\" x=\"593.5\" y=\"-68.8\" font-family=\"Times,serif\" font-size=\"14.00\">Random Forest Classifier</text>\n",
       "<polyline fill=\"none\" stroke=\"black\" points=\"516,-61 671,-61 \"/>\n",
       "<text text-anchor=\"start\" x=\"524\" y=\"-45.8\" font-family=\"Times,serif\" font-size=\"14.00\">n_estimators : 100</text>\n",
       "<text text-anchor=\"start\" x=\"524\" y=\"-30.8\" font-family=\"Times,serif\" font-size=\"14.00\">max_depth : 6</text>\n",
       "<text text-anchor=\"start\" x=\"524\" y=\"-15.8\" font-family=\"Times,serif\" font-size=\"14.00\">n_jobs : &#45;1</text>\n",
       "</g>\n",
       "<!-- Text Featurization Component&#45;&gt;Random Forest Classifier -->\n",
       "<g id=\"edge2\" class=\"edge\">\n",
       "<title>Text Featurization Component&#45;&gt;Random Forest Classifier</title>\n",
       "<path fill=\"none\" stroke=\"black\" d=\"M480.23,-46C480.23,-46 505.69,-46 505.69,-46\"/>\n",
       "<polygon fill=\"black\" stroke=\"black\" points=\"505.69,-49.5 515.69,-46 505.69,-42.5 505.69,-49.5\"/>\n",
       "</g>\n",
       "</g>\n",
       "</svg>\n"
      ],
      "text/plain": [
       "<graphviz.dot.Digraph at 0x14225f3d0>"
      ]
     },
     "execution_count": 16,
     "metadata": {},
     "output_type": "execute_result"
    }
   ],
   "source": [
    "%%time\n",
    "best_pipeline_no_text.graph()"
   ]
  },
  {
   "cell_type": "code",
   "execution_count": 17,
   "metadata": {},
   "outputs": [
    {
     "name": "stdout",
     "output_type": "stream",
     "text": [
      "**********************************************************************\n",
      "* Random Forest Classifier w/ Imputer + Text Featurization Component *\n",
      "**********************************************************************\n",
      "\n",
      "Problem Type: binary\n",
      "Model Family: Random Forest\n",
      "\n",
      "Pipeline Steps\n",
      "==============\n",
      "1. Imputer\n",
      "\t * categorical_impute_strategy : most_frequent\n",
      "\t * numeric_impute_strategy : mean\n",
      "\t * categorical_fill_value : None\n",
      "\t * numeric_fill_value : None\n",
      "2. Text Featurization Component\n",
      "\t * text_columns : ['Message']\n",
      "3. Random Forest Classifier\n",
      "\t * n_estimators : 100\n",
      "\t * max_depth : 6\n",
      "\t * n_jobs : -1\n",
      "\n",
      "Training\n",
      "========\n",
      "Training for binary problems.\n",
      "Total training time (including CV): 9.6 seconds\n",
      "\n",
      "Cross Validation\n",
      "----------------\n",
      "             Log Loss Binary  MCC Binary   AUC  Precision    F1  Balanced Accuracy Binary  Accuracy Binary # Training # Validation\n",
      "0                      0.129       0.885 0.979      0.937 0.912                     0.935            0.957   1594.000      797.000\n",
      "1                      0.127       0.892 0.987      0.937 0.918                     0.940            0.960   1594.000      797.000\n",
      "2                      0.114       0.895 0.984      0.952 0.920                     0.937            0.961   1594.000      797.000\n",
      "mean                   0.123       0.891 0.983      0.942 0.917                     0.937            0.959          -            -\n",
      "std                    0.008       0.005 0.004      0.009 0.004                     0.003            0.002          -            -\n",
      "coef of var            0.065       0.006 0.004      0.009 0.004                     0.003            0.002          -            -\n",
      "CPU times: user 35.8 ms, sys: 7.97 ms, total: 43.8 ms\n",
      "Wall time: 40.8 ms\n"
     ]
    }
   ],
   "source": [
    "%%time\n",
    "automl_no_text.describe_pipeline(automl_no_text.rankings.iloc[0][\"id\"])"
   ]
  },
  {
   "cell_type": "code",
   "execution_count": 18,
   "metadata": {},
   "outputs": [
    {
     "name": "stdout",
     "output_type": "stream",
     "text": [
      "Accuracy Binary: 0.9732441471571907\n",
      "CPU times: user 970 ms, sys: 138 ms, total: 1.11 s\n",
      "Wall time: 1.09 s\n"
     ]
    }
   ],
   "source": [
    "%%time\n",
    "# get standard performance metrics on holdout data\n",
    "scores = best_pipeline_no_text.score(X_holdout, y_holdout, objectives=evalml.objectives.get_core_objectives('binary'))\n",
    "print(f'Accuracy Binary: {scores[\"Accuracy Binary\"]}')"
   ]
  },
  {
   "cell_type": "markdown",
   "metadata": {},
   "source": [
    "Without the `Text Featurization Component`, the `'Message'` column was treated as a categorical column, and therefore the conversion of this text to numerical features happened in the `One Hot Encoder`. The best pipeline encoded the top 10 most frequent \"categories\" of these texts, meaning 10 text messages were one-hot encoded and all the others were dropped. Clearly, this removed almost all of the information from the dataset, as we can see the `best_pipeline_no_text` did not beat the random guess of predicting \"ham\" in every case."
   ]
  }
 ],
 "metadata": {
  "kernelspec": {
   "display_name": "evalml_bash",
   "language": "python",
   "name": "evalml_bash"
  },
  "language_info": {
   "codemirror_mode": {
    "name": "ipython",
    "version": 3
   },
   "file_extension": ".py",
   "mimetype": "text/x-python",
   "name": "python",
   "nbconvert_exporter": "python",
   "pygments_lexer": "ipython3",
   "version": "3.8.6"
  }
 },
 "nbformat": 4,
 "nbformat_minor": 4
}