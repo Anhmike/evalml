{
 "cells": [
  {
   "cell_type": "markdown",
   "metadata": {},
   "source": [
    "# Automated Machine Learning (AutoML) Search\n",
    "\n",
    "## Background\n",
    "\n",
    "### Machine Learning\n",
    "\n",
    "[Machine learning](https://en.wikipedia.org/wiki/Machine_learning) (ML) is the process of constructing a mathematical model of a system based on a sample dataset collected from that system.\n",
    "\n",
    "One of the main goals of training an ML model is to teach the model to separate the signal present in the data from the noise inherent in system and in the data collection process. If this is done effectively, the model can then be used to make accurate predictions about the system when presented with new, similar data. Additionally, introspecting on an ML model can reveal key information about the system being modeled, such as which inputs and transformations of the inputs are most useful to the ML model for learning the signal in the data, and are therefore the most predictive.\n",
    "\n",
    "There are [a variety](https://en.wikipedia.org/wiki/Machine_learning#Approaches) of ML problem types. Supervised learning describes the case where the collected data contains an output value to be modeled and a set of inputs with which to train the model. EvalML focuses on training supervised learning models.\n",
    "\n",
    "EvalML supports three common supervised ML problem types. The first is regression, where the target value to model is a continuous numeric value. Next are binary and multiclass classification, where the target value to model consists of two or more discrete values or categories. The choice of which supervised ML problem type is most appropriate depends on domain expertise and on how the model will be evaluated and used.\n",
    "\n",
    "\n",
    "### AutoML and Search\n",
    "\n",
    "[AutoML](https://en.wikipedia.org/wiki/Automated_machine_learning) is the process of automating the construction, training and evaluation of ML models. Given a data and some configuration, AutoML searches for the most effective and accurate ML model or models to fit the dataset. During the search, AutoML will explore different combinations of model type, model parameters and model architecture.\n",
    "\n",
    "An effective AutoML solution offers several advantages over constructing and tuning ML models by hand. AutoML can assist with many of the difficult aspects of ML, such as avoiding overfitting and underfitting, imbalanced data, detecting data leakage and other potential issues with the problem setup, and automatically applying best-practice data cleaning, feature engineering, feature selection and various modeling techniques. AutoML can also leverage search algorithms to optimally sweep the hyperparameter search space, resulting in model performance which would be difficult to achieve by manual training."
   ]
  },
  {
   "cell_type": "markdown",
   "metadata": {},
   "source": [
    "## AutoML in EvalML\n",
    "\n",
    "EvalML supports all of the above and more.\n",
    "\n",
    "In its simplest usage, the AutoML search interface requires only the input data, the target data and a `problem_type` specifying what kind of supervised ML problem to model."
   ]
  },
  {
   "cell_type": "code",
   "execution_count": 1,
   "metadata": {},
   "outputs": [
    {
     "name": "stdout",
     "output_type": "stream",
     "text": [
      "Using default limit of max_pipelines=5.\n",
      "\n",
      "Generating pipelines to search over...\n",
      "*****************************\n",
      "* Beginning pipeline search *\n",
      "*****************************\n",
      "\n",
      "Optimizing for Log Loss Binary. \n",
      "Lower score is better.\n",
      "\n",
      "Searching up to 5 pipelines. \n",
      "Allowed model families: linear_model, catboost, random_forest, xgboost\n",
      "\n"
     ]
    },
    {
     "data": {
      "application/vnd.jupyter.widget-view+json": {
       "model_id": "4ceae5fb10aa4d258a52c774f4d271bc",
       "version_major": 2,
       "version_minor": 0
      },
      "text/plain": [
       "FigureWidget({\n",
       "    'data': [{'mode': 'lines+markers',\n",
       "              'name': 'Best Score',\n",
       "              'type'…"
      ]
     },
     "metadata": {},
     "output_type": "display_data"
    },
    {
     "name": "stdout",
     "output_type": "stream",
     "text": [
      "(1/5) Mode Baseline Binary Classification P... Elapsed:00:00\n",
      "\tStarting cross validation\n",
      "\tFinished cross validation - mean Log Loss Binary: 12.868\n",
      "(2/5) CatBoost Classifier w/ Simple Imputer    Elapsed:00:00\n",
      "\tStarting cross validation\n",
      "\tFinished cross validation - mean Log Loss Binary: 0.104\n",
      "(3/5) XGBoost Classifier w/ Simple Imputer     Elapsed:00:05\n",
      "\tStarting cross validation\n",
      "\tFinished cross validation - mean Log Loss Binary: 0.101\n",
      "(4/5) Random Forest Classifier w/ Simple Im... Elapsed:00:05\n",
      "\tStarting cross validation\n",
      "\tFinished cross validation - mean Log Loss Binary: 0.123\n",
      "(5/5) Logistic Regression Classifier w/ Sim... Elapsed:00:06\n",
      "\tStarting cross validation\n",
      "\tFinished cross validation - mean Log Loss Binary: 0.091\n",
      "\n",
      "Search finished after 00:08            \n",
      "Best pipeline: Logistic Regression Classifier w/ Simple Imputer + Standard Scaler\n",
      "Best pipeline Log Loss Binary: 0.091164\n"
     ]
    }
   ],
   "source": [
    "import evalml\n",
    "\n",
    "X, y = evalml.demos.load_breast_cancer()\n",
    "\n",
    "automl = evalml.automl.AutoMLSearch(problem_type='binary')\n",
    "automl.search(X, y)"
   ]
  },
  {
   "cell_type": "markdown",
   "metadata": {},
   "source": [
    "The AutoML search will log its progress, reporting each pipeline and parameter set evaluated during the search.\n",
    "\n",
    "By default, AutoML will search a fixed number of pipeline and parameter pairs (5). The first pipeline to be evaluated will always be a baseline model representing a trivial solution."
   ]
  },
  {
   "cell_type": "markdown",
   "metadata": {},
   "source": [
    "The AutoML interface supports a variety of other parameters. For a comprehensive list, please [refer to the API reference.](../generated/evalml.automl.AutoMLSearch.ipynb)"
   ]
  },
  {
   "cell_type": "markdown",
   "metadata": {},
   "source": [
    "### Using custom pipelines\n",
    "EvalML's automl algorithm searches through a set of pipelines by default. To change to this set of pipelines you can use the `allowed_pipelines` parameter and supply your own [custom pipelines](pipelines.ipynb) and [components](components.ipynb). Note: doing so will replace the default set of pipelines."
   ]
  },
  {
   "cell_type": "code",
   "execution_count": 2,
   "metadata": {},
   "outputs": [
    {
     "name": "stdout",
     "output_type": "stream",
     "text": [
      "Using default limit of max_pipelines=5.\n",
      "\n"
     ]
    }
   ],
   "source": [
    "from evalml.pipelines import MulticlassClassificationPipeline\n",
    "\n",
    "class CustomMulticlassClassificationPipeline(MulticlassClassificationPipeline):\n",
    "    component_graph = ['Simple Imputer', 'Random Forest Classifier']\n",
    "\n",
    "automl_custom = evalml.automl.AutoMLSearch(problem_type='multiclass', allowed_pipelines=[CustomMulticlassClassificationPipeline])"
   ]
  },
  {
   "cell_type": "markdown",
   "metadata": {},
   "source": [
    "### Stopping the search early\n",
    "\n",
    "To stop the search early, hit `Ctrl-C`. This will bring up a prompt asking for confirmation. Responding with `y` will immediately stop the search. Responding with `n` will continue the search.\n",
    "\n",
    "![Interrupting Search Demo](keyboard_interrupt_demo_updated.gif)"
   ]
  },
  {
   "cell_type": "markdown",
   "metadata": {},
   "source": [
    "## View Rankings\n",
    "A summary of all the pipelines built can be returned as a pandas DataFrame which is sorted by score."
   ]
  },
  {
   "cell_type": "code",
   "execution_count": 3,
   "metadata": {},
   "outputs": [
    {
     "data": {
      "text/html": [
       "<div>\n",
       "<style scoped>\n",
       "    .dataframe tbody tr th:only-of-type {\n",
       "        vertical-align: middle;\n",
       "    }\n",
       "\n",
       "    .dataframe tbody tr th {\n",
       "        vertical-align: top;\n",
       "    }\n",
       "\n",
       "    .dataframe thead th {\n",
       "        text-align: right;\n",
       "    }\n",
       "</style>\n",
       "<table border=\"1\" class=\"dataframe\">\n",
       "  <thead>\n",
       "    <tr style=\"text-align: right;\">\n",
       "      <th></th>\n",
       "      <th>id</th>\n",
       "      <th>pipeline_name</th>\n",
       "      <th>score</th>\n",
       "      <th>high_variance_cv</th>\n",
       "      <th>parameters</th>\n",
       "    </tr>\n",
       "  </thead>\n",
       "  <tbody>\n",
       "    <tr>\n",
       "      <th>0</th>\n",
       "      <td>4</td>\n",
       "      <td>Logistic Regression Classifier w/ Simple Imput...</td>\n",
       "      <td>0.091164</td>\n",
       "      <td>False</td>\n",
       "      <td>{'Simple Imputer': {'impute_strategy': 'most_f...</td>\n",
       "    </tr>\n",
       "    <tr>\n",
       "      <th>1</th>\n",
       "      <td>2</td>\n",
       "      <td>XGBoost Classifier w/ Simple Imputer</td>\n",
       "      <td>0.100965</td>\n",
       "      <td>True</td>\n",
       "      <td>{'Simple Imputer': {'impute_strategy': 'most_f...</td>\n",
       "    </tr>\n",
       "    <tr>\n",
       "      <th>2</th>\n",
       "      <td>1</td>\n",
       "      <td>CatBoost Classifier w/ Simple Imputer</td>\n",
       "      <td>0.104358</td>\n",
       "      <td>False</td>\n",
       "      <td>{'Simple Imputer': {'impute_strategy': 'most_f...</td>\n",
       "    </tr>\n",
       "    <tr>\n",
       "      <th>3</th>\n",
       "      <td>3</td>\n",
       "      <td>Random Forest Classifier w/ Simple Imputer</td>\n",
       "      <td>0.122537</td>\n",
       "      <td>False</td>\n",
       "      <td>{'Simple Imputer': {'impute_strategy': 'most_f...</td>\n",
       "    </tr>\n",
       "    <tr>\n",
       "      <th>4</th>\n",
       "      <td>0</td>\n",
       "      <td>Mode Baseline Binary Classification Pipeline</td>\n",
       "      <td>12.868443</td>\n",
       "      <td>False</td>\n",
       "      <td>{'Baseline Classifier': {'strategy': 'mode'}}</td>\n",
       "    </tr>\n",
       "  </tbody>\n",
       "</table>\n",
       "</div>"
      ],
      "text/plain": [
       "   id                                      pipeline_name      score  \\\n",
       "0   4  Logistic Regression Classifier w/ Simple Imput...   0.091164   \n",
       "1   2               XGBoost Classifier w/ Simple Imputer   0.100965   \n",
       "2   1              CatBoost Classifier w/ Simple Imputer   0.104358   \n",
       "3   3         Random Forest Classifier w/ Simple Imputer   0.122537   \n",
       "4   0       Mode Baseline Binary Classification Pipeline  12.868443   \n",
       "\n",
       "   high_variance_cv                                         parameters  \n",
       "0             False  {'Simple Imputer': {'impute_strategy': 'most_f...  \n",
       "1              True  {'Simple Imputer': {'impute_strategy': 'most_f...  \n",
       "2             False  {'Simple Imputer': {'impute_strategy': 'most_f...  \n",
       "3             False  {'Simple Imputer': {'impute_strategy': 'most_f...  \n",
       "4             False      {'Baseline Classifier': {'strategy': 'mode'}}  "
      ]
     },
     "execution_count": 3,
     "metadata": {},
     "output_type": "execute_result"
    }
   ],
   "source": [
    "automl.rankings"
   ]
  },
  {
   "cell_type": "markdown",
   "metadata": {},
   "source": [
    "## Describe Pipeline\n",
    "Each pipeline is given an `id`. We can get more information about any particular pipeline using that `id`. Here, we will get more information about the pipeline with `id = 1`."
   ]
  },
  {
   "cell_type": "code",
   "execution_count": 4,
   "metadata": {},
   "outputs": [
    {
     "name": "stdout",
     "output_type": "stream",
     "text": [
      "*****************************************\n",
      "* CatBoost Classifier w/ Simple Imputer *\n",
      "*****************************************\n",
      "\n",
      "Problem Type: Binary Classification\n",
      "Model Family: CatBoost\n",
      "\n",
      "Pipeline Steps\n",
      "==============\n",
      "1. Simple Imputer\n",
      "\t * impute_strategy : most_frequent\n",
      "\t * fill_value : None\n",
      "2. CatBoost Classifier\n",
      "\t * n_estimators : 1000\n",
      "\t * eta : 0.03\n",
      "\t * max_depth : 6\n",
      "\t * bootstrap_type : None\n",
      "\n",
      "Training\n",
      "========\n",
      "Training for Binary Classification problems.\n",
      "Total training time (including CV): 5.1 seconds\n",
      "\n",
      "Cross Validation\n",
      "----------------\n",
      "             Log Loss Binary  Accuracy Binary  Balanced Accuracy Binary    F1  Precision   AUC  MCC Binary # Training # Testing\n",
      "0                      0.123            0.958                     0.949 0.942      0.970 0.993       0.910    379.000   190.000\n",
      "1                      0.088            0.974                     0.970 0.965      0.971 0.993       0.944    379.000   190.000\n",
      "2                      0.102            0.963                     0.965 0.951      0.932 0.989       0.922    380.000   189.000\n",
      "mean                   0.104            0.965                     0.962 0.953      0.958 0.992       0.925          -         -\n",
      "std                    0.018            0.008                     0.011 0.011      0.023 0.002       0.017          -         -\n",
      "coef of var            0.169            0.008                     0.011 0.012      0.024 0.002       0.018          -         -\n"
     ]
    }
   ],
   "source": [
    "automl.describe_pipeline(1)"
   ]
  },
  {
   "cell_type": "markdown",
   "metadata": {},
   "source": [
    "## Get Pipeline\n",
    "We can get the object of any pipeline via their `id` as well:"
   ]
  },
  {
   "cell_type": "code",
   "execution_count": 5,
   "metadata": {},
   "outputs": [
    {
     "name": "stdout",
     "output_type": "stream",
     "text": [
      "CatBoost Classifier w/ Simple Imputer\n",
      "{'Simple Imputer': {'impute_strategy': 'most_frequent', 'fill_value': None}, 'CatBoost Classifier': {'n_estimators': 1000, 'eta': 0.03, 'max_depth': 6, 'bootstrap_type': None}}\n"
     ]
    }
   ],
   "source": [
    "pipeline = automl.get_pipeline(1)\n",
    "print(pipeline.name)\n",
    "print(pipeline.parameters)"
   ]
  },
  {
   "cell_type": "markdown",
   "metadata": {},
   "source": [
    "### Get best pipeline\n",
    "If we specifically want to get the best pipeline, there is a convenient accessor for that."
   ]
  },
  {
   "cell_type": "code",
   "execution_count": 6,
   "metadata": {},
   "outputs": [
    {
     "name": "stdout",
     "output_type": "stream",
     "text": [
      "Logistic Regression Classifier w/ Simple Imputer + Standard Scaler\n",
      "{'Simple Imputer': {'impute_strategy': 'most_frequent', 'fill_value': None}, 'Logistic Regression Classifier': {'penalty': 'l2', 'C': 1.0, 'n_jobs': -1}}\n"
     ]
    }
   ],
   "source": [
    "best_pipeline = automl.best_pipeline\n",
    "print(best_pipeline.name)\n",
    "print(best_pipeline.parameters)"
   ]
  },
  {
   "cell_type": "markdown",
   "metadata": {},
   "source": [
    "## Access raw results\n",
    "\n",
    "The `AutoMLSearch` class records detailed results information under the `results` field, including information about the cross-validation scoring and parameters."
   ]
  },
  {
   "cell_type": "code",
   "execution_count": 7,
   "metadata": {},
   "outputs": [
    {
     "data": {
      "text/plain": [
       "{'pipeline_results': {0: {'id': 0,\n",
       "   'pipeline_name': 'Mode Baseline Binary Classification Pipeline',\n",
       "   'pipeline_class': evalml.pipelines.classification.baseline_binary.ModeBaselineBinaryPipeline,\n",
       "   'pipeline_summary': 'Baseline Classifier',\n",
       "   'parameters': {'Baseline Classifier': {'strategy': 'mode'}},\n",
       "   'score': 12.868443394958925,\n",
       "   'high_variance_cv': False,\n",
       "   'training_time': 0.024129152297973633,\n",
       "   'cv_data': [{'all_objective_scores': OrderedDict([('Log Loss Binary',\n",
       "                   12.906595389677152),\n",
       "                  ('Accuracy Binary', 0.6263157894736842),\n",
       "                  ('Balanced Accuracy Binary', 0.5),\n",
       "                  ('F1', 0.0),\n",
       "                  ('Precision', 0.0),\n",
       "                  ('AUC', 0.5),\n",
       "                  ('MCC Binary', 0.0),\n",
       "                  ('# Training', 379),\n",
       "                  ('# Testing', 190)]),\n",
       "     'score': 12.906595389677152,\n",
       "     'binary_classification_threshold': 0.5},\n",
       "    {'all_objective_scores': OrderedDict([('Log Loss Binary',\n",
       "                   12.906595389677149),\n",
       "                  ('Accuracy Binary', 0.6263157894736842),\n",
       "                  ('Balanced Accuracy Binary', 0.5),\n",
       "                  ('F1', 0.0),\n",
       "                  ('Precision', 0.0),\n",
       "                  ('AUC', 0.5),\n",
       "                  ('MCC Binary', 0.0),\n",
       "                  ('# Training', 379),\n",
       "                  ('# Testing', 190)]),\n",
       "     'score': 12.906595389677149,\n",
       "     'binary_classification_threshold': 0.5},\n",
       "    {'all_objective_scores': OrderedDict([('Log Loss Binary',\n",
       "                   12.792139405522475),\n",
       "                  ('Accuracy Binary', 0.6296296296296297),\n",
       "                  ('Balanced Accuracy Binary', 0.5),\n",
       "                  ('F1', 0.0),\n",
       "                  ('Precision', 0.0),\n",
       "                  ('AUC', 0.5),\n",
       "                  ('MCC Binary', 0.0),\n",
       "                  ('# Training', 380),\n",
       "                  ('# Testing', 189)]),\n",
       "     'score': 12.792139405522475,\n",
       "     'binary_classification_threshold': 0.5}]},\n",
       "  1: {'id': 1,\n",
       "   'pipeline_name': 'CatBoost Classifier w/ Simple Imputer',\n",
       "   'pipeline_class': evalml.pipelines.utils.make_pipeline.<locals>.GeneratedPipeline,\n",
       "   'pipeline_summary': 'CatBoost Classifier w/ Simple Imputer',\n",
       "   'parameters': {'Simple Imputer': {'impute_strategy': 'most_frequent',\n",
       "     'fill_value': None},\n",
       "    'CatBoost Classifier': {'n_estimators': 1000,\n",
       "     'eta': 0.03,\n",
       "     'max_depth': 6,\n",
       "     'bootstrap_type': None}},\n",
       "   'score': 0.10435777615130798,\n",
       "   'high_variance_cv': False,\n",
       "   'training_time': 5.100545883178711,\n",
       "   'cv_data': [{'all_objective_scores': OrderedDict([('Log Loss Binary',\n",
       "                   0.12315160264190039),\n",
       "                  ('Accuracy Binary', 0.9578947368421052),\n",
       "                  ('Balanced Accuracy Binary', 0.9493431175287016),\n",
       "                  ('F1', 0.9420289855072463),\n",
       "                  ('Precision', 0.9701492537313433),\n",
       "                  ('AUC', 0.9931352822819268),\n",
       "                  ('MCC Binary', 0.909956827190137),\n",
       "                  ('# Training', 379),\n",
       "                  ('# Testing', 190)]),\n",
       "     'score': 0.12315160264190039,\n",
       "     'binary_classification_threshold': 0.5},\n",
       "    {'all_objective_scores': OrderedDict([('Log Loss Binary',\n",
       "                   0.08820505820623933),\n",
       "                  ('Accuracy Binary', 0.9736842105263158),\n",
       "                  ('Balanced Accuracy Binary', 0.9704698780920819),\n",
       "                  ('F1', 0.9645390070921985),\n",
       "                  ('Precision', 0.9714285714285714),\n",
       "                  ('AUC', 0.9934903538880341),\n",
       "                  ('MCC Binary', 0.9436801731761278),\n",
       "                  ('# Training', 379),\n",
       "                  ('# Testing', 190)]),\n",
       "     'score': 0.08820505820623933,\n",
       "     'binary_classification_threshold': 0.5},\n",
       "    {'all_objective_scores': OrderedDict([('Log Loss Binary',\n",
       "                   0.10171666760578423),\n",
       "                  ('Accuracy Binary', 0.9629629629629629),\n",
       "                  ('Balanced Accuracy Binary', 0.9647058823529412),\n",
       "                  ('F1', 0.9510489510489512),\n",
       "                  ('Precision', 0.9315068493150684),\n",
       "                  ('AUC', 0.989435774309724),\n",
       "                  ('MCC Binary', 0.9218075091290715),\n",
       "                  ('# Training', 380),\n",
       "                  ('# Testing', 189)]),\n",
       "     'score': 0.10171666760578423,\n",
       "     'binary_classification_threshold': 0.5}]},\n",
       "  2: {'id': 2,\n",
       "   'pipeline_name': 'XGBoost Classifier w/ Simple Imputer',\n",
       "   'pipeline_class': evalml.pipelines.utils.make_pipeline.<locals>.GeneratedPipeline,\n",
       "   'pipeline_summary': 'XGBoost Classifier w/ Simple Imputer',\n",
       "   'parameters': {'Simple Imputer': {'impute_strategy': 'most_frequent',\n",
       "     'fill_value': None},\n",
       "    'XGBoost Classifier': {'eta': 0.1,\n",
       "     'max_depth': 6,\n",
       "     'min_child_weight': 1,\n",
       "     'n_estimators': 100}},\n",
       "   'score': 0.10096524696588778,\n",
       "   'high_variance_cv': True,\n",
       "   'training_time': 0.3562602996826172,\n",
       "   'cv_data': [{'all_objective_scores': OrderedDict([('Log Loss Binary',\n",
       "                   0.11449877552314368),\n",
       "                  ('Accuracy Binary', 0.9578947368421052),\n",
       "                  ('Balanced Accuracy Binary', 0.9521836903775595),\n",
       "                  ('F1', 0.9428571428571428),\n",
       "                  ('Precision', 0.9565217391304348),\n",
       "                  ('AUC', 0.9915966386554622),\n",
       "                  ('MCC Binary', 0.9097672817424011),\n",
       "                  ('# Training', 379),\n",
       "                  ('# Testing', 190)]),\n",
       "     'score': 0.11449877552314368,\n",
       "     'binary_classification_threshold': 0.5},\n",
       "    {'all_objective_scores': OrderedDict([('Log Loss Binary',\n",
       "                   0.07421586432028562),\n",
       "                  ('Accuracy Binary', 0.9736842105263158),\n",
       "                  ('Balanced Accuracy Binary', 0.9676293052432241),\n",
       "                  ('F1', 0.9640287769784172),\n",
       "                  ('Precision', 0.9852941176470589),\n",
       "                  ('AUC', 0.9959758551307847),\n",
       "                  ('MCC Binary', 0.943843520216036),\n",
       "                  ('# Training', 379),\n",
       "                  ('# Testing', 190)]),\n",
       "     'score': 0.07421586432028562,\n",
       "     'binary_classification_threshold': 0.5},\n",
       "    {'all_objective_scores': OrderedDict([('Log Loss Binary',\n",
       "                   0.11418110105423404),\n",
       "                  ('Accuracy Binary', 0.9576719576719577),\n",
       "                  ('Balanced Accuracy Binary', 0.9605042016806722),\n",
       "                  ('F1', 0.9444444444444445),\n",
       "                  ('Precision', 0.918918918918919),\n",
       "                  ('AUC', 0.9885954381752701),\n",
       "                  ('MCC Binary', 0.9112159507396058),\n",
       "                  ('# Training', 380),\n",
       "                  ('# Testing', 189)]),\n",
       "     'score': 0.11418110105423404,\n",
       "     'binary_classification_threshold': 0.5}]},\n",
       "  3: {'id': 3,\n",
       "   'pipeline_name': 'Random Forest Classifier w/ Simple Imputer',\n",
       "   'pipeline_class': evalml.pipelines.utils.make_pipeline.<locals>.GeneratedPipeline,\n",
       "   'pipeline_summary': 'Random Forest Classifier w/ Simple Imputer',\n",
       "   'parameters': {'Simple Imputer': {'impute_strategy': 'most_frequent',\n",
       "     'fill_value': None},\n",
       "    'Random Forest Classifier': {'n_estimators': 100,\n",
       "     'max_depth': 6,\n",
       "     'n_jobs': -1}},\n",
       "   'score': 0.12253681387225619,\n",
       "   'high_variance_cv': False,\n",
       "   'training_time': 1.3016531467437744,\n",
       "   'cv_data': [{'all_objective_scores': OrderedDict([('Log Loss Binary',\n",
       "                   0.13984688783161606),\n",
       "                  ('Accuracy Binary', 0.9421052631578948),\n",
       "                  ('Balanced Accuracy Binary', 0.9338975026630371),\n",
       "                  ('F1', 0.920863309352518),\n",
       "                  ('Precision', 0.9411764705882353),\n",
       "                  ('AUC', 0.9893478518167831),\n",
       "                  ('MCC Binary', 0.8757606542930872),\n",
       "                  ('# Training', 379),\n",
       "                  ('# Testing', 190)]),\n",
       "     'score': 0.13984688783161606,\n",
       "     'binary_classification_threshold': 0.5},\n",
       "    {'all_objective_scores': OrderedDict([('Log Loss Binary',\n",
       "                   0.12010721015394288),\n",
       "                  ('Accuracy Binary', 0.9631578947368421),\n",
       "                  ('Balanced Accuracy Binary', 0.9563853710498283),\n",
       "                  ('F1', 0.9496402877697842),\n",
       "                  ('Precision', 0.9705882352941176),\n",
       "                  ('AUC', 0.9893478518167831),\n",
       "                  ('MCC Binary', 0.9211492315750531),\n",
       "                  ('# Training', 379),\n",
       "                  ('# Testing', 190)]),\n",
       "     'score': 0.12010721015394288,\n",
       "     'binary_classification_threshold': 0.5},\n",
       "    {'all_objective_scores': OrderedDict([('Log Loss Binary',\n",
       "                   0.10765634363120971),\n",
       "                  ('Accuracy Binary', 0.9735449735449735),\n",
       "                  ('Balanced Accuracy Binary', 0.973109243697479),\n",
       "                  ('F1', 0.9645390070921985),\n",
       "                  ('Precision', 0.9577464788732394),\n",
       "                  ('AUC', 0.9927971188475391),\n",
       "                  ('MCC Binary', 0.9435040132749904),\n",
       "                  ('# Training', 380),\n",
       "                  ('# Testing', 189)]),\n",
       "     'score': 0.10765634363120971,\n",
       "     'binary_classification_threshold': 0.5}]},\n",
       "  4: {'id': 4,\n",
       "   'pipeline_name': 'Logistic Regression Classifier w/ Simple Imputer + Standard Scaler',\n",
       "   'pipeline_class': evalml.pipelines.utils.make_pipeline.<locals>.GeneratedPipeline,\n",
       "   'pipeline_summary': 'Logistic Regression Classifier w/ Simple Imputer + Standard Scaler',\n",
       "   'parameters': {'Simple Imputer': {'impute_strategy': 'most_frequent',\n",
       "     'fill_value': None},\n",
       "    'Logistic Regression Classifier': {'penalty': 'l2',\n",
       "     'C': 1.0,\n",
       "     'n_jobs': -1}},\n",
       "   'score': 0.09116380517655136,\n",
       "   'high_variance_cv': False,\n",
       "   'training_time': 1.2753558158874512,\n",
       "   'cv_data': [{'all_objective_scores': OrderedDict([('Log Loss Binary',\n",
       "                   0.09347817517438102),\n",
       "                  ('Accuracy Binary', 0.9789473684210527),\n",
       "                  ('Balanced Accuracy Binary', 0.9775121316132087),\n",
       "                  ('F1', 0.971830985915493),\n",
       "                  ('Precision', 0.971830985915493),\n",
       "                  ('AUC', 0.9936087110900698),\n",
       "                  ('MCC Binary', 0.9550242632264173),\n",
       "                  ('# Training', 379),\n",
       "                  ('# Testing', 190)]),\n",
       "     'score': 0.09347817517438102,\n",
       "     'binary_classification_threshold': 0.5},\n",
       "    {'all_objective_scores': OrderedDict([('Log Loss Binary',\n",
       "                   0.08320464479578792),\n",
       "                  ('Accuracy Binary', 0.9736842105263158),\n",
       "                  ('Balanced Accuracy Binary', 0.9647887323943662),\n",
       "                  ('F1', 0.9635036496350364),\n",
       "                  ('Precision', 1.0),\n",
       "                  ('AUC', 0.9975144987572494),\n",
       "                  ('MCC Binary', 0.9445075449666159),\n",
       "                  ('# Training', 379),\n",
       "                  ('# Testing', 190)]),\n",
       "     'score': 0.08320464479578792,\n",
       "     'binary_classification_threshold': 0.5},\n",
       "    {'all_objective_scores': OrderedDict([('Log Loss Binary',\n",
       "                   0.0968085955594851),\n",
       "                  ('Accuracy Binary', 0.9735449735449735),\n",
       "                  ('Balanced Accuracy Binary', 0.9760504201680673),\n",
       "                  ('F1', 0.9650349650349651),\n",
       "                  ('Precision', 0.9452054794520548),\n",
       "                  ('AUC', 0.9906362545018007),\n",
       "                  ('MCC Binary', 0.9443109474170326),\n",
       "                  ('# Training', 380),\n",
       "                  ('# Testing', 189)]),\n",
       "     'score': 0.0968085955594851,\n",
       "     'binary_classification_threshold': 0.5}]}},\n",
       " 'search_order': [0, 1, 2, 3, 4]}"
      ]
     },
     "execution_count": 7,
     "metadata": {},
     "output_type": "execute_result"
    }
   ],
   "source": [
    "automl.results"
   ]
  }
 ],
 "metadata": {
  "kernelspec": {
   "display_name": "Python 3",
   "language": "python",
   "name": "python3"
  },
  "language_info": {
   "codemirror_mode": {
    "name": "ipython",
    "version": 3
   },
   "file_extension": ".py",
   "mimetype": "text/x-python",
   "name": "python",
   "nbconvert_exporter": "python",
   "pygments_lexer": "ipython3",
   "version": "3.7.4"
  }
 },
 "nbformat": 4,
 "nbformat_minor": 4
}
