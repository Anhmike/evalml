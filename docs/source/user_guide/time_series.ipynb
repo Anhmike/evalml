{
 "cells": [
  {
   "cell_type": "markdown",
   "metadata": {},
   "source": [
    "# Time Series"
   ]
  },
  {
   "cell_type": "markdown",
   "metadata": {},
   "source": [
    "Parametrize the problem and create a time series pipeline that extracts lagged features."
   ]
  },
  {
   "cell_type": "code",
   "execution_count": null,
   "metadata": {},
   "outputs": [],
   "source": [
    "from evalml.pipelines import TimeSeriesRegressionPipeline\n",
    "from evalml.problem_types import TimeSeriesProblem\n",
    "\n",
    "ts_problem = TimeSeriesProblem(gap=2, max_lag=4, n_periods_to_predict=1,\n",
    "                               estimator_type=\"regression\", date_column=\"date\")\n",
    "\n",
    "class TsRegressionPipeline(TimeSeriesRegressionPipeline):\n",
    "    component_graph = [\"Lagged Feature Extractor\", \"Random Forest Regressor\"]\n",
    "\n",
    "    \n",
    "pl = TsRegressionPipeline(parameters={}, time_series_problem=ts_problem)"
   ]
  },
  {
   "cell_type": "markdown",
   "metadata": {},
   "source": [
    "Create an autoregressive model of order 1."
   ]
  },
  {
   "cell_type": "code",
   "execution_count": null,
   "metadata": {},
   "outputs": [],
   "source": [
    "import pandas as pd\n",
    "import numpy as np\n",
    "\n",
    "X = pd.DataFrame({\"features\": range(1, 32)})\n",
    "y = pd.Series(np.random.normal(0, 1, 31))\n",
    "prev = 10\n",
    "for i, noise in enumerate(y):\n",
    "    new_value = 0.2 * prev + noise\n",
    "    y[i] = new_value\n",
    "    prev = new_value\n",
    "    \n",
    "y.index = pd.date_range(\"2020-10-01\", \"2020-10-31\")\n",
    "X.index = pd.date_range(\"2020-10-01\", \"2020-10-31\")"
   ]
  },
  {
   "cell_type": "code",
   "execution_count": null,
   "metadata": {},
   "outputs": [],
   "source": [
    "import plotly.express as px\n",
    "px.line(y)"
   ]
  },
  {
   "cell_type": "code",
   "execution_count": null,
   "metadata": {},
   "outputs": [],
   "source": [
    "from evalml.automl import TimeSeriesSplit\n",
    "\n",
    "ts_split = TimeSeriesSplit(gap=ts_problem.gap, max_lag=ts_problem.max_lag)\n",
    "\n",
    "for i, (train, test) in enumerate(ts_split.split(X, y)):\n",
    "    X_train, y_train = X.iloc[train], y.iloc[train]\n",
    "    X_test, y_test = X.iloc[test], y.iloc[test]\n",
    "    pl.fit(X_train, y_train)\n",
    "    score = pl.score(X_test, y_test, objectives=[\"Root Mean Squared Error\"])[\"Root Mean Squared Error\"]\n",
    "    print(f\"Score on fold {i} is {score:.2f}\")"
   ]
  },
  {
   "cell_type": "code",
   "execution_count": null,
   "metadata": {},
   "outputs": [],
   "source": [
    "predictions = pd.DataFrame({\"value\": pd.concat([pl.predict(X_test, y_test)[4:], y_test[4:]], ignore_index=True),\n",
    "                            \"kind\": [\"prediction\"] * 7 + [\"target\"] * 7})"
   ]
  },
  {
   "cell_type": "code",
   "execution_count": null,
   "metadata": {},
   "outputs": [],
   "source": [
    "px.line(predictions, x=list(range(1, 8)) + list(range(1, 8)), y=\"value\", color=\"kind\")"
   ]
  }
 ],
 "metadata": {
  "kernelspec": {
   "display_name": "Python 3",
   "language": "python",
   "name": "python3"
  },
  "language_info": {
   "codemirror_mode": {
    "name": "ipython",
    "version": 3
   },
   "file_extension": ".py",
   "mimetype": "text/x-python",
   "name": "python",
   "nbconvert_exporter": "python",
   "pygments_lexer": "ipython3",
   "version": "3.8.3"
  }
 },
 "nbformat": 4,
 "nbformat_minor": 4
}
